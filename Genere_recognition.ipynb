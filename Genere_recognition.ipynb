{
 "cells": [
  {
   "cell_type": "code",
   "execution_count": 1,
   "metadata": {
    "colab": {
     "base_uri": "https://localhost:8080/"
    },
    "id": "zTU2ujiGhJfP",
    "outputId": "36aebd06-326f-49ed-900e-32113b00e025"
   },
   "outputs": [
    {
     "name": "stderr",
     "output_type": "stream",
     "text": [
      "'git' is not recognized as an internal or external command,\n",
      "operable program or batch file.\n",
      "'unzip' is not recognized as an internal or external command,\n",
      "operable program or batch file.\n"
     ]
    }
   ],
   "source": [
    "!git clone https://github.com/GuitarsAI/BasicsMusicalInstrumClassifi\n",
    "!unzip ./BasicsMusicalInstrumClassifi/audio/*.zip -d ./BasicsMusicalInstrumClassifi/audio\n",
    "path=\"/content/BasicsMusicalInstrumClassifi\""
   ]
  },
  {
   "cell_type": "code",
   "execution_count": 2,
   "metadata": {
    "id": "2dlV7W_yhWLp"
   },
   "outputs": [],
   "source": [
    "import warnings\n",
    "warnings.filterwarnings('ignore')"
   ]
  },
  {
   "cell_type": "code",
   "execution_count": 3,
   "metadata": {
    "id": "xsQ-v2oThZKr"
   },
   "outputs": [],
   "source": [
    "import numpy as np\n",
    "import pickle\n",
    "import itertools\n",
    "\n",
    "# System\n",
    "import os, fnmatch\n",
    "\n",
    "# Visualization\n",
    "import seaborn \n",
    "import matplotlib.pyplot as plt\n",
    "from IPython.core.display import HTML, display\n",
    "\n",
    "# Machine Learning\n",
    "from sklearn.preprocessing import LabelEncoder\n",
    "from sklearn.preprocessing import StandardScaler\n",
    "from sklearn.model_selection import StratifiedShuffleSplit\n",
    "from sklearn.neighbors import KNeighborsClassifier\n",
    "from sklearn.metrics import recall_score, precision_score, accuracy_score\n",
    "from sklearn.metrics import confusion_matrix, f1_score, classification_report\n",
    "from sklearn.svm import LinearSVC, SVC\n",
    "import joblib\n",
    "from sklearn.preprocessing import LabelEncoder\n",
    "# Random Seed\n",
    "from numpy.random import seed\n",
    "seed(1)\n",
    "\n",
    "# Audio\n",
    "import librosa.display, librosa\n",
    "\n"
   ]
  },
  {
   "cell_type": "code",
   "execution_count": 4,
   "metadata": {
    "colab": {
     "base_uri": "https://localhost:8080/"
    },
    "id": "q0ShAkTyhr0t",
    "outputId": "c1e4face-3dfc-48ab-bdb2-7092db63e253"
   },
   "outputs": [
    {
     "name": "stdout",
     "output_type": "stream",
     "text": [
      "found 600 audio files in /content/BasicsMusicalInstrumClassifi\n"
     ]
    }
   ],
   "source": [
    "files = []\n",
    "for root, dirnames, filenames in os.walk(path):\n",
    "    for filename in fnmatch.filter(filenames, '*.mp3'):\n",
    "        files.append(os.path.join(root, filename))\n",
    "\n",
    "print(\"found %d audio files in %s\"%(len(files),path))"
   ]
  },
  {
   "cell_type": "code",
   "execution_count": 5,
   "metadata": {
    "colab": {
     "base_uri": "https://localhost:8080/"
    },
    "id": "4FH7OfufiBuP",
    "outputId": "c2f4ff23-3de4-4615-bd44-f8e8107b4284"
   },
   "outputs": [
    {
     "name": "stdout",
     "output_type": "stream",
     "text": [
      "['viola', 'viola', 'viola', 'viola', 'viola', 'viola', 'viola', 'viola', 'viola', 'viola', 'viola', 'viola', 'viola', 'viola', 'viola', 'viola', 'viola', 'viola', 'viola', 'viola', 'viola', 'viola', 'viola', 'viola', 'viola', 'viola', 'viola', 'viola', 'viola', 'viola', 'viola', 'viola', 'viola', 'viola', 'viola', 'viola', 'viola', 'viola', 'viola', 'viola', 'viola', 'viola', 'viola', 'viola', 'viola', 'viola', 'viola', 'viola', 'viola', 'viola', 'viola', 'viola', 'viola', 'viola', 'viola', 'viola', 'viola', 'viola', 'viola', 'viola', 'viola', 'viola', 'viola', 'viola', 'viola', 'viola', 'viola', 'viola', 'viola', 'viola', 'viola', 'viola', 'viola', 'viola', 'viola', 'viola', 'viola', 'viola', 'viola', 'viola', 'viola', 'viola', 'viola', 'viola', 'viola', 'viola', 'viola', 'viola', 'viola', 'viola', 'viola', 'viola', 'viola', 'viola', 'viola', 'viola', 'viola', 'viola', 'viola', 'viola', 'cello', 'cello', 'cello', 'cello', 'cello', 'cello', 'cello', 'cello', 'cello', 'cello', 'cello', 'cello', 'cello', 'cello', 'cello', 'cello', 'cello', 'cello', 'cello', 'cello', 'cello', 'cello', 'cello', 'cello', 'cello', 'cello', 'cello', 'cello', 'cello', 'cello', 'cello', 'cello', 'cello', 'cello', 'cello', 'cello', 'cello', 'cello', 'cello', 'cello', 'cello', 'cello', 'cello', 'cello', 'cello', 'cello', 'cello', 'cello', 'cello', 'cello', 'cello', 'cello', 'cello', 'cello', 'cello', 'cello', 'cello', 'cello', 'cello', 'cello', 'cello', 'cello', 'cello', 'cello', 'cello', 'cello', 'cello', 'cello', 'cello', 'cello', 'cello', 'cello', 'cello', 'cello', 'cello', 'cello', 'cello', 'cello', 'cello', 'cello', 'cello', 'cello', 'cello', 'cello', 'cello', 'cello', 'cello', 'cello', 'cello', 'cello', 'cello', 'cello', 'cello', 'cello', 'cello', 'cello', 'cello', 'cello', 'cello', 'cello', 'oboe', 'oboe', 'oboe', 'oboe', 'oboe', 'oboe', 'oboe', 'oboe', 'oboe', 'oboe', 'oboe', 'oboe', 'oboe', 'oboe', 'oboe', 'oboe', 'oboe', 'oboe', 'oboe', 'oboe', 'oboe', 'oboe', 'oboe', 'oboe', 'oboe', 'oboe', 'oboe', 'oboe', 'oboe', 'oboe', 'oboe', 'oboe', 'oboe', 'oboe', 'oboe', 'oboe', 'oboe', 'oboe', 'oboe', 'oboe', 'oboe', 'oboe', 'oboe', 'oboe', 'oboe', 'oboe', 'oboe', 'oboe', 'oboe', 'oboe', 'oboe', 'oboe', 'oboe', 'oboe', 'oboe', 'oboe', 'oboe', 'oboe', 'oboe', 'oboe', 'oboe', 'oboe', 'oboe', 'oboe', 'oboe', 'oboe', 'oboe', 'oboe', 'oboe', 'oboe', 'oboe', 'oboe', 'oboe', 'oboe', 'oboe', 'oboe', 'oboe', 'oboe', 'oboe', 'oboe', 'oboe', 'oboe', 'oboe', 'oboe', 'oboe', 'oboe', 'oboe', 'oboe', 'oboe', 'oboe', 'oboe', 'oboe', 'oboe', 'oboe', 'oboe', 'oboe', 'oboe', 'oboe', 'oboe', 'oboe', 'flute', 'flute', 'flute', 'flute', 'flute', 'flute', 'flute', 'flute', 'flute', 'flute', 'flute', 'flute', 'flute', 'flute', 'flute', 'flute', 'flute', 'flute', 'flute', 'flute', 'flute', 'flute', 'flute', 'flute', 'flute', 'flute', 'flute', 'flute', 'flute', 'flute', 'flute', 'flute', 'flute', 'flute', 'flute', 'flute', 'flute', 'flute', 'flute', 'flute', 'flute', 'flute', 'flute', 'flute', 'flute', 'flute', 'flute', 'flute', 'flute', 'flute', 'flute', 'flute', 'flute', 'flute', 'flute', 'flute', 'flute', 'flute', 'flute', 'flute', 'flute', 'flute', 'flute', 'flute', 'flute', 'flute', 'flute', 'flute', 'flute', 'flute', 'flute', 'flute', 'flute', 'flute', 'flute', 'flute', 'flute', 'flute', 'flute', 'flute', 'flute', 'flute', 'flute', 'flute', 'flute', 'flute', 'flute', 'flute', 'flute', 'flute', 'flute', 'flute', 'flute', 'flute', 'flute', 'flute', 'flute', 'flute', 'flute', 'flute', 'trumpet', 'trumpet', 'trumpet', 'trumpet', 'trumpet', 'trumpet', 'trumpet', 'trumpet', 'trumpet', 'trumpet', 'trumpet', 'trumpet', 'trumpet', 'trumpet', 'trumpet', 'trumpet', 'trumpet', 'trumpet', 'trumpet', 'trumpet', 'trumpet', 'trumpet', 'trumpet', 'trumpet', 'trumpet', 'trumpet', 'trumpet', 'trumpet', 'trumpet', 'trumpet', 'trumpet', 'trumpet', 'trumpet', 'trumpet', 'trumpet', 'trumpet', 'trumpet', 'trumpet', 'trumpet', 'trumpet', 'trumpet', 'trumpet', 'trumpet', 'trumpet', 'trumpet', 'trumpet', 'trumpet', 'trumpet', 'trumpet', 'trumpet', 'trumpet', 'trumpet', 'trumpet', 'trumpet', 'trumpet', 'trumpet', 'trumpet', 'trumpet', 'trumpet', 'trumpet', 'trumpet', 'trumpet', 'trumpet', 'trumpet', 'trumpet', 'trumpet', 'trumpet', 'trumpet', 'trumpet', 'trumpet', 'trumpet', 'trumpet', 'trumpet', 'trumpet', 'trumpet', 'trumpet', 'trumpet', 'trumpet', 'trumpet', 'trumpet', 'trumpet', 'trumpet', 'trumpet', 'trumpet', 'trumpet', 'trumpet', 'trumpet', 'trumpet', 'trumpet', 'trumpet', 'trumpet', 'trumpet', 'trumpet', 'trumpet', 'trumpet', 'trumpet', 'trumpet', 'trumpet', 'trumpet', 'trumpet', 'sax', 'sax', 'sax', 'sax', 'sax', 'sax', 'sax', 'sax', 'sax', 'sax', 'sax', 'sax', 'sax', 'sax', 'sax', 'sax', 'sax', 'sax', 'sax', 'sax', 'sax', 'sax', 'sax', 'sax', 'sax', 'sax', 'sax', 'sax', 'sax', 'sax', 'sax', 'sax', 'sax', 'sax', 'sax', 'sax', 'sax', 'sax', 'sax', 'sax', 'sax', 'sax', 'sax', 'sax', 'sax', 'sax', 'sax', 'sax', 'sax', 'sax', 'sax', 'sax', 'sax', 'sax', 'sax', 'sax', 'sax', 'sax', 'sax', 'sax', 'sax', 'sax', 'sax', 'sax', 'sax', 'sax', 'sax', 'sax', 'sax', 'sax', 'sax', 'sax', 'sax', 'sax', 'sax', 'sax', 'sax', 'sax', 'sax', 'sax', 'sax', 'sax', 'sax', 'sax', 'sax', 'sax', 'sax', 'sax', 'sax', 'sax', 'sax', 'sax', 'sax', 'sax', 'sax', 'sax', 'sax', 'sax', 'sax', 'sax']\n"
     ]
    }
   ],
   "source": [
    "# Get Labels\n",
    "labels =[]\n",
    "\n",
    "classes=['flute','sax','oboe', 'cello','trumpet','viola']\n",
    "color_dict={'cello':'blue', 'flute':'red', 'oboe':'green', 'trumpet':'black', 'sax':'magenta', 'viola':'yellow'}\n",
    "color_list=[]\n",
    "for filename in files:\n",
    "    for name in classes:\n",
    "        if fnmatch.fnmatchcase(filename, '*'+name+'*'):\n",
    "            labels.append(name)\n",
    "            color_list.append(color_dict[name])\n",
    "            break\n",
    "    else:\n",
    "        labels.append('other')\n",
    "print(labels)\n"
   ]
  },
  {
   "cell_type": "code",
   "execution_count": 6,
   "metadata": {
    "colab": {
     "base_uri": "https://localhost:8080/"
    },
    "id": "LYu8r1VgiCFE",
    "outputId": "7a0bceca-20e9-4e2c-dcd0-386e8a846181"
   },
   "outputs": [
    {
     "name": "stdout",
     "output_type": "stream",
     "text": [
      "6 classes: cello, flute, oboe, sax, trumpet, viola\n"
     ]
    }
   ],
   "source": [
    "# Encode Labels\n",
    "labelencoder = LabelEncoder()\n",
    "labelencoder = LabelEncoder()\n",
    "labelencoder.fit(labels)\n",
    "print(len(labelencoder.classes_), \"classes:\", \", \".join(list(labelencoder.classes_)))\n",
    "classes_num = labelencoder.transform(labels)\n",
    "l = []\n",
    "for i in labelencoder.classes_:\n",
    "    l.append(i)"
   ]
  },
  {
   "cell_type": "code",
   "execution_count": 7,
   "metadata": {
    "id": "X-mqJoz7iK0J"
   },
   "outputs": [],
   "source": [
    "fs = 44100         # Sampling Frequency(frequency sample)\n",
    "n_fft = 2048       # length of the FFT window\n",
    "hop_length = 512   # Number of samples between successive frames\n",
    "n_mels = 128       # Number of Mel bands, fixed length of 128\n",
    "n_mfcc = 13        # Number of MFCCs\n",
    "\n",
    "# Machine Learning Parameters\n",
    "testset_size = 0.25 #Percentage of data for Testing\n",
    "n_neighbors=1       # Number of neighbors for kNN Classifier(odd number)"
   ]
  },
  {
   "cell_type": "code",
   "execution_count": 8,
   "metadata": {
    "id": "1tCgN5iqiOBL"
   },
   "outputs": [],
   "source": [
    "# Define Function to Calculate MFCC, Delta_MFCC and Delta2_MFCC\n",
    "def get_features(y, sr=fs):\n",
    "    S = librosa.feature.melspectrogram(y, sr=fs, n_mels=n_mels)\n",
    "    mfcc = librosa.feature.mfcc(S=librosa.power_to_db(S), n_mfcc=n_mfcc)\n",
    "    feature_vector = np.mean(mfcc,1)\n",
    "    #feature_vector = (feature_vector-np.mean(feature_vector))/np.std(feature_vector)\n",
    "    return feature_vector"
   ]
  },
  {
   "cell_type": "code",
   "execution_count": 9,
   "metadata": {
    "colab": {
     "base_uri": "https://localhost:8080/"
    },
    "id": "IQQzGUn3iQqi",
    "outputId": "a3d472d8-1994-47af-e7b6-fbed9cf7e020"
   },
   "outputs": [
    {
     "name": "stdout",
     "output_type": "stream",
     "text": [
      "get 1 of 600 = /content/BasicsMusicalInstrumClassifi/audio/london_phill_dataset_multi/viola/viola_Gs5_15_pianissimo_arco-normal.mp3\n",
      "get 2 of 600 = /content/BasicsMusicalInstrumClassifi/audio/london_phill_dataset_multi/viola/viola_Gs5_05_forte_arco-normal.mp3\n",
      "get 3 of 600 = /content/BasicsMusicalInstrumClassifi/audio/london_phill_dataset_multi/viola/viola_Gs4_05_piano_arco-normal.mp3\n",
      "get 4 of 600 = /content/BasicsMusicalInstrumClassifi/audio/london_phill_dataset_multi/viola/viola_Gs6_05_piano_arco-normal.mp3\n",
      "get 5 of 600 = /content/BasicsMusicalInstrumClassifi/audio/london_phill_dataset_multi/viola/viola_A3_05_mezzo-piano_arco-normal.mp3\n",
      "get 6 of 600 = /content/BasicsMusicalInstrumClassifi/audio/london_phill_dataset_multi/viola/viola_Gs6_1_pianissimo_arco-normal.mp3\n",
      "get 7 of 600 = /content/BasicsMusicalInstrumClassifi/audio/london_phill_dataset_multi/viola/viola_A3_05_piano_arco-normal.mp3\n",
      "get 8 of 600 = /content/BasicsMusicalInstrumClassifi/audio/london_phill_dataset_multi/viola/viola_A3_025_pianissimo_arco-normal.mp3\n",
      "get 9 of 600 = /content/BasicsMusicalInstrumClassifi/audio/london_phill_dataset_multi/viola/viola_A4_05_fortissimo_arco-normal.mp3\n",
      "get 10 of 600 = /content/BasicsMusicalInstrumClassifi/audio/london_phill_dataset_multi/viola/viola_Gs4_15_fortissimo_arco-normal.mp3\n",
      "get 11 of 600 = /content/BasicsMusicalInstrumClassifi/audio/london_phill_dataset_multi/viola/viola_A4_1_forte_arco-normal.mp3\n",
      "get 12 of 600 = /content/BasicsMusicalInstrumClassifi/audio/london_phill_dataset_multi/viola/viola_A3_15_piano_arco-normal.mp3\n",
      "get 13 of 600 = /content/BasicsMusicalInstrumClassifi/audio/london_phill_dataset_multi/viola/viola_A4_05_mezzo-piano_arco-normal.mp3\n",
      "get 14 of 600 = /content/BasicsMusicalInstrumClassifi/audio/london_phill_dataset_multi/viola/viola_Gs5_025_forte_arco-normal.mp3\n",
      "get 15 of 600 = /content/BasicsMusicalInstrumClassifi/audio/london_phill_dataset_multi/viola/viola_Gs3_15_pianissimo_arco-normal.mp3\n",
      "get 16 of 600 = /content/BasicsMusicalInstrumClassifi/audio/london_phill_dataset_multi/viola/viola_Gs5_1_fortissimo_arco-normal.mp3\n",
      "get 17 of 600 = /content/BasicsMusicalInstrumClassifi/audio/london_phill_dataset_multi/viola/viola_Gs5_025_fortissimo_arco-normal.mp3\n",
      "get 18 of 600 = /content/BasicsMusicalInstrumClassifi/audio/london_phill_dataset_multi/viola/viola_A4_1_fortissimo_arco-normal.mp3\n",
      "get 19 of 600 = /content/BasicsMusicalInstrumClassifi/audio/london_phill_dataset_multi/viola/viola_Gs6_15_forte_arco-normal.mp3\n",
      "get 20 of 600 = /content/BasicsMusicalInstrumClassifi/audio/london_phill_dataset_multi/viola/viola_A3_15_forte_arco-normal.mp3\n",
      "get 21 of 600 = /content/BasicsMusicalInstrumClassifi/audio/london_phill_dataset_multi/viola/viola_A4_05_piano_arco-normal.mp3\n",
      "get 22 of 600 = /content/BasicsMusicalInstrumClassifi/audio/london_phill_dataset_multi/viola/viola_A4_15_fortissimo_arco-normal.mp3\n",
      "get 23 of 600 = /content/BasicsMusicalInstrumClassifi/audio/london_phill_dataset_multi/viola/viola_A4_1_fortissimo_snap-pizz.mp3\n",
      "get 24 of 600 = /content/BasicsMusicalInstrumClassifi/audio/london_phill_dataset_multi/viola/viola_A4_1_mezzo-forte_molto-vibrato.mp3\n",
      "get 25 of 600 = /content/BasicsMusicalInstrumClassifi/audio/london_phill_dataset_multi/viola/viola_A4_025_fortissimo_arco-normal.mp3\n",
      "get 26 of 600 = /content/BasicsMusicalInstrumClassifi/audio/london_phill_dataset_multi/viola/viola_Gs4_1_mezzo-piano_arco-normal.mp3\n",
      "get 27 of 600 = /content/BasicsMusicalInstrumClassifi/audio/london_phill_dataset_multi/viola/viola_Gs3_025_piano_arco-normal.mp3\n",
      "get 28 of 600 = /content/BasicsMusicalInstrumClassifi/audio/london_phill_dataset_multi/viola/viola_A4_05_pianissimo_arco-normal.mp3\n",
      "get 29 of 600 = /content/BasicsMusicalInstrumClassifi/audio/london_phill_dataset_multi/viola/viola_Gs4_15_pianissimo_arco-normal.mp3\n",
      "get 30 of 600 = /content/BasicsMusicalInstrumClassifi/audio/london_phill_dataset_multi/viola/viola_Gs6_025_forte_arco-normal.mp3\n",
      "get 31 of 600 = /content/BasicsMusicalInstrumClassifi/audio/london_phill_dataset_multi/viola/viola_A4_025_piano_arco-normal.mp3\n",
      "get 32 of 600 = /content/BasicsMusicalInstrumClassifi/audio/london_phill_dataset_multi/viola/viola_A5_1_forte_arco-normal.mp3\n",
      "get 33 of 600 = /content/BasicsMusicalInstrumClassifi/audio/london_phill_dataset_multi/viola/viola_Gs3_15_piano_arco-normal.mp3\n",
      "get 34 of 600 = /content/BasicsMusicalInstrumClassifi/audio/london_phill_dataset_multi/viola/viola_Gs6_05_pianissimo_arco-normal.mp3\n",
      "get 35 of 600 = /content/BasicsMusicalInstrumClassifi/audio/london_phill_dataset_multi/viola/viola_A4_1_piano_pizz-normal.mp3\n",
      "get 36 of 600 = /content/BasicsMusicalInstrumClassifi/audio/london_phill_dataset_multi/viola/viola_A4_1_mezzo-forte_arco-major-trill.mp3\n",
      "get 37 of 600 = /content/BasicsMusicalInstrumClassifi/audio/london_phill_dataset_multi/viola/viola_Gs5_15_fortissimo_arco-normal.mp3\n",
      "get 38 of 600 = /content/BasicsMusicalInstrumClassifi/audio/london_phill_dataset_multi/viola/viola_A5_1_mezzo-forte_artificial-harmonic.mp3\n",
      "get 39 of 600 = /content/BasicsMusicalInstrumClassifi/audio/london_phill_dataset_multi/viola/viola_A3_025_fortissimo_arco-normal.mp3\n",
      "get 40 of 600 = /content/BasicsMusicalInstrumClassifi/audio/london_phill_dataset_multi/viola/viola_A3_1_forte_arco-normal.mp3\n",
      "get 41 of 600 = /content/BasicsMusicalInstrumClassifi/audio/london_phill_dataset_multi/viola/viola_Gs6_025_fortissimo_arco-normal.mp3\n",
      "get 42 of 600 = /content/BasicsMusicalInstrumClassifi/audio/london_phill_dataset_multi/viola/viola_A5_1_fortissimo_arco-normal.mp3\n",
      "get 43 of 600 = /content/BasicsMusicalInstrumClassifi/audio/london_phill_dataset_multi/viola/viola_Gs3_025_pianissimo_arco-normal.mp3\n",
      "get 44 of 600 = /content/BasicsMusicalInstrumClassifi/audio/london_phill_dataset_multi/viola/viola_A3_15_fortissimo_arco-normal.mp3\n",
      "get 45 of 600 = /content/BasicsMusicalInstrumClassifi/audio/london_phill_dataset_multi/viola/viola_A3_1_mezzo-forte_molto-vibrato.mp3\n",
      "get 46 of 600 = /content/BasicsMusicalInstrumClassifi/audio/london_phill_dataset_multi/viola/viola_Gs4_1_fortissimo_arco-normal.mp3\n",
      "get 47 of 600 = /content/BasicsMusicalInstrumClassifi/audio/london_phill_dataset_multi/viola/viola_A4_025_pianissimo_arco-normal.mp3\n",
      "get 48 of 600 = /content/BasicsMusicalInstrumClassifi/audio/london_phill_dataset_multi/viola/viola_A4_05_forte_arco-normal.mp3\n",
      "get 49 of 600 = /content/BasicsMusicalInstrumClassifi/audio/london_phill_dataset_multi/viola/viola_Gs4_05_mezzo-piano_arco-normal.mp3\n",
      "get 50 of 600 = /content/BasicsMusicalInstrumClassifi/audio/london_phill_dataset_multi/viola/viola_Gs5_025_mezzo-piano_arco-normal.mp3\n",
      "get 51 of 600 = /content/BasicsMusicalInstrumClassifi/audio/london_phill_dataset_multi/viola/viola_A3_1_pianissimo_arco-normal.mp3\n",
      "get 52 of 600 = /content/BasicsMusicalInstrumClassifi/audio/london_phill_dataset_multi/viola/viola_Gs5_05_pianissimo_arco-normal.mp3\n",
      "get 53 of 600 = /content/BasicsMusicalInstrumClassifi/audio/london_phill_dataset_multi/viola/viola_Gs4_1_pianissimo_arco-normal.mp3\n",
      "get 54 of 600 = /content/BasicsMusicalInstrumClassifi/audio/london_phill_dataset_multi/viola/viola_Gs4_05_fortissimo_arco-normal.mp3\n",
      "get 55 of 600 = /content/BasicsMusicalInstrumClassifi/audio/london_phill_dataset_multi/viola/viola_Gs6_1_forte_arco-normal.mp3\n",
      "get 56 of 600 = /content/BasicsMusicalInstrumClassifi/audio/london_phill_dataset_multi/viola/viola_Gs5_025_pianissimo_arco-normal.mp3\n",
      "get 57 of 600 = /content/BasicsMusicalInstrumClassifi/audio/london_phill_dataset_multi/viola/viola_Gs6_025_mezzo-piano_arco-normal.mp3\n",
      "get 58 of 600 = /content/BasicsMusicalInstrumClassifi/audio/london_phill_dataset_multi/viola/viola_A3_1_piano_arco-normal.mp3\n",
      "get 59 of 600 = /content/BasicsMusicalInstrumClassifi/audio/london_phill_dataset_multi/viola/viola_A4_1_mezzo-piano_non-vibrato.mp3\n",
      "get 60 of 600 = /content/BasicsMusicalInstrumClassifi/audio/london_phill_dataset_multi/viola/viola_Ds3_1_piano_pizz-normal.mp3\n",
      "get 61 of 600 = /content/BasicsMusicalInstrumClassifi/audio/london_phill_dataset_multi/viola/viola_Gs5_1_forte_arco-normal.mp3\n",
      "get 62 of 600 = /content/BasicsMusicalInstrumClassifi/audio/london_phill_dataset_multi/viola/viola_Gs6_025_pianissimo_arco-normal.mp3\n",
      "get 63 of 600 = /content/BasicsMusicalInstrumClassifi/audio/london_phill_dataset_multi/viola/viola_Gs4_05_pianissimo_arco-normal.mp3\n",
      "get 64 of 600 = /content/BasicsMusicalInstrumClassifi/audio/london_phill_dataset_multi/viola/viola_Gs3_025_fortissimo_arco-normal.mp3\n",
      "get 65 of 600 = /content/BasicsMusicalInstrumClassifi/audio/london_phill_dataset_multi/viola/viola_Gs6_05_fortissimo_arco-normal.mp3\n",
      "get 66 of 600 = /content/BasicsMusicalInstrumClassifi/audio/london_phill_dataset_multi/viola/viola_A4_1_piano_arco-normal.mp3\n",
      "get 67 of 600 = /content/BasicsMusicalInstrumClassifi/audio/london_phill_dataset_multi/viola/viola_Gs6_05_forte_arco-normal.mp3\n",
      "get 68 of 600 = /content/BasicsMusicalInstrumClassifi/audio/london_phill_dataset_multi/viola/viola_Gs5_1_piano_arco-normal.mp3\n",
      "get 69 of 600 = /content/BasicsMusicalInstrumClassifi/audio/london_phill_dataset_multi/viola/viola_A3_1_mezzo-piano_non-vibrato.mp3\n",
      "get 70 of 600 = /content/BasicsMusicalInstrumClassifi/audio/london_phill_dataset_multi/viola/viola_Gs6_15_fortissimo_arco-normal.mp3\n",
      "get 71 of 600 = /content/BasicsMusicalInstrumClassifi/audio/london_phill_dataset_multi/viola/viola_Gs4_025_fortissimo_arco-normal.mp3\n",
      "get 72 of 600 = /content/BasicsMusicalInstrumClassifi/audio/london_phill_dataset_multi/viola/viola_Gs4_1_piano_arco-normal.mp3\n",
      "get 73 of 600 = /content/BasicsMusicalInstrumClassifi/audio/london_phill_dataset_multi/viola/viola_A4_1_mezzo-forte_arco-minor-trill.mp3\n",
      "get 74 of 600 = /content/BasicsMusicalInstrumClassifi/audio/london_phill_dataset_multi/viola/viola_Gs4_025_pianissimo_arco-normal.mp3\n",
      "get 75 of 600 = /content/BasicsMusicalInstrumClassifi/audio/london_phill_dataset_multi/viola/viola_A4_15_piano_arco-normal.mp3\n",
      "get 76 of 600 = /content/BasicsMusicalInstrumClassifi/audio/london_phill_dataset_multi/viola/viola_Gs5_05_fortissimo_arco-normal.mp3\n",
      "get 77 of 600 = /content/BasicsMusicalInstrumClassifi/audio/london_phill_dataset_multi/viola/viola_A4_15_pianissimo_arco-normal.mp3\n",
      "get 78 of 600 = /content/BasicsMusicalInstrumClassifi/audio/london_phill_dataset_multi/viola/viola_A3_05_pianissimo_arco-normal.mp3\n",
      "get 79 of 600 = /content/BasicsMusicalInstrumClassifi/audio/london_phill_dataset_multi/viola/viola_A4_1_piano_arco-glissando.mp3\n",
      "get 80 of 600 = /content/BasicsMusicalInstrumClassifi/audio/london_phill_dataset_multi/viola/viola_Gs4_15_mezzo-piano_arco-normal.mp3\n",
      "get 81 of 600 = /content/BasicsMusicalInstrumClassifi/audio/london_phill_dataset_multi/viola/viola_A4_1_pianissimo_arco-normal.mp3\n",
      "get 82 of 600 = /content/BasicsMusicalInstrumClassifi/audio/london_phill_dataset_multi/viola/viola_A3_1_piano_arco-glissando.mp3\n",
      "get 83 of 600 = /content/BasicsMusicalInstrumClassifi/audio/london_phill_dataset_multi/viola/viola_Gs5_05_piano_arco-normal.mp3\n",
      "get 84 of 600 = /content/BasicsMusicalInstrumClassifi/audio/london_phill_dataset_multi/viola/viola_Gs5_1_fortissimo_snap-pizz.mp3\n",
      "get 85 of 600 = /content/BasicsMusicalInstrumClassifi/audio/london_phill_dataset_multi/viola/viola_Gs6_1_fortissimo_arco-normal.mp3\n",
      "get 86 of 600 = /content/BasicsMusicalInstrumClassifi/audio/london_phill_dataset_multi/viola/viola_A3_1_fortissimo_arco-normal.mp3\n",
      "get 87 of 600 = /content/BasicsMusicalInstrumClassifi/audio/london_phill_dataset_multi/viola/viola_A3_025_mezzo-piano_arco-normal.mp3\n",
      "get 88 of 600 = /content/BasicsMusicalInstrumClassifi/audio/london_phill_dataset_multi/viola/viola_Gs3_15_fortissimo_arco-normal.mp3\n",
      "get 89 of 600 = /content/BasicsMusicalInstrumClassifi/audio/london_phill_dataset_multi/viola/viola_A3_025_piano_arco-normal.mp3\n",
      "get 90 of 600 = /content/BasicsMusicalInstrumClassifi/audio/london_phill_dataset_multi/viola/viola_A3_05_fortissimo_arco-normal.mp3\n",
      "get 91 of 600 = /content/BasicsMusicalInstrumClassifi/audio/london_phill_dataset_multi/viola/viola_A3_1_piano_pizz-normal.mp3\n",
      "get 92 of 600 = /content/BasicsMusicalInstrumClassifi/audio/london_phill_dataset_multi/viola/viola_Ds3_05_fortissimo_arco-normal.mp3\n",
      "get 93 of 600 = /content/BasicsMusicalInstrumClassifi/audio/london_phill_dataset_multi/viola/viola_Gs5_1_pianissimo_arco-normal.mp3\n",
      "get 94 of 600 = /content/BasicsMusicalInstrumClassifi/audio/london_phill_dataset_multi/viola/viola_A4_025_mezzo-piano_arco-normal.mp3\n",
      "get 95 of 600 = /content/BasicsMusicalInstrumClassifi/audio/london_phill_dataset_multi/viola/viola_A3_1_fortissimo_pizz-normal.mp3\n",
      "get 96 of 600 = /content/BasicsMusicalInstrumClassifi/audio/london_phill_dataset_multi/viola/viola_Ds3_05_mezzo-piano_arco-normal.mp3\n",
      "get 97 of 600 = /content/BasicsMusicalInstrumClassifi/audio/london_phill_dataset_multi/viola/viola_Gs4_025_mezzo-piano_arco-normal.mp3\n",
      "get 98 of 600 = /content/BasicsMusicalInstrumClassifi/audio/london_phill_dataset_multi/viola/viola_A5_1_pianissimo_arco-normal.mp3\n",
      "get 99 of 600 = /content/BasicsMusicalInstrumClassifi/audio/london_phill_dataset_multi/viola/viola_Gs6_025_piano_arco-normal.mp3\n",
      "get 100 of 600 = /content/BasicsMusicalInstrumClassifi/audio/london_phill_dataset_multi/viola/viola_Gs3_025_mezzo-piano_arco-normal.mp3\n",
      "get 101 of 600 = /content/BasicsMusicalInstrumClassifi/audio/london_phill_dataset_multi/cello/cello_Gs4_025_fortissimo_arco-normal.mp3\n",
      "get 102 of 600 = /content/BasicsMusicalInstrumClassifi/audio/london_phill_dataset_multi/cello/cello_Gs3_025_mezzo-piano_arco-normal.mp3\n",
      "get 103 of 600 = /content/BasicsMusicalInstrumClassifi/audio/london_phill_dataset_multi/cello/cello_Gs3_025_fortissimo_arco-normal.mp3\n",
      "get 104 of 600 = /content/BasicsMusicalInstrumClassifi/audio/london_phill_dataset_multi/cello/cello_A2_05_forte_arco-normal.mp3\n",
      "get 105 of 600 = /content/BasicsMusicalInstrumClassifi/audio/london_phill_dataset_multi/cello/cello_A4_025_pianissimo_arco-normal.mp3\n",
      "get 106 of 600 = /content/BasicsMusicalInstrumClassifi/audio/london_phill_dataset_multi/cello/cello_Gs3_05_pianissimo_arco-normal.mp3\n",
      "get 107 of 600 = /content/BasicsMusicalInstrumClassifi/audio/london_phill_dataset_multi/cello/cello_A3_1_forte_arco-normal.mp3\n",
      "get 108 of 600 = /content/BasicsMusicalInstrumClassifi/audio/london_phill_dataset_multi/cello/cello_Gs5_05_fortissimo_arco-normal.mp3\n",
      "get 109 of 600 = /content/BasicsMusicalInstrumClassifi/audio/london_phill_dataset_multi/cello/cello_Gs4_05_mezzo-piano_arco-normal.mp3\n",
      "get 110 of 600 = /content/BasicsMusicalInstrumClassifi/audio/london_phill_dataset_multi/cello/cello_A4_1_forte_arco-normal.mp3\n",
      "get 111 of 600 = /content/BasicsMusicalInstrumClassifi/audio/london_phill_dataset_multi/cello/cello_Gs4_05_fortissimo_arco-normal.mp3\n",
      "get 112 of 600 = /content/BasicsMusicalInstrumClassifi/audio/london_phill_dataset_multi/cello/cello_Gs4_1_forte_arco-normal.mp3\n",
      "get 113 of 600 = /content/BasicsMusicalInstrumClassifi/audio/london_phill_dataset_multi/cello/cello_A4_025_mezzo-piano_arco-normal.mp3\n",
      "get 114 of 600 = /content/BasicsMusicalInstrumClassifi/audio/london_phill_dataset_multi/cello/cello_A3_1_mezzo-piano_non-vibrato.mp3\n",
      "get 115 of 600 = /content/BasicsMusicalInstrumClassifi/audio/london_phill_dataset_multi/cello/cello_Gs3_025_forte_arco-normal.mp3\n",
      "get 116 of 600 = /content/BasicsMusicalInstrumClassifi/audio/london_phill_dataset_multi/cello/cello_A4_025_mezzo-forte_arco-col-legno-battuto.mp3\n",
      "get 117 of 600 = /content/BasicsMusicalInstrumClassifi/audio/london_phill_dataset_multi/cello/cello_A4_1_fortissimo_arco-normal.mp3\n",
      "get 118 of 600 = /content/BasicsMusicalInstrumClassifi/audio/london_phill_dataset_multi/cello/cello_A3_025_mezzo-piano_arco-normal.mp3\n",
      "get 119 of 600 = /content/BasicsMusicalInstrumClassifi/audio/london_phill_dataset_multi/cello/cello_A4_025_fortissimo_arco-normal.mp3\n",
      "get 120 of 600 = /content/BasicsMusicalInstrumClassifi/audio/london_phill_dataset_multi/cello/cello_Gs4_025_mezzo-forte_arco-col-legno-battuto.mp3\n",
      "get 121 of 600 = /content/BasicsMusicalInstrumClassifi/audio/london_phill_dataset_multi/cello/cello_Gs3_15_pianissimo_arco-normal.mp3\n",
      "get 122 of 600 = /content/BasicsMusicalInstrumClassifi/audio/london_phill_dataset_multi/cello/cello_Gs3_1_forte_arco-normal.mp3\n",
      "get 123 of 600 = /content/BasicsMusicalInstrumClassifi/audio/london_phill_dataset_multi/cello/cello_A2_05_mezzo-piano_arco-normal.mp3\n",
      "get 124 of 600 = /content/BasicsMusicalInstrumClassifi/audio/london_phill_dataset_multi/cello/cello_A4_15_forte_arco-normal.mp3\n",
      "get 125 of 600 = /content/BasicsMusicalInstrumClassifi/audio/london_phill_dataset_multi/cello/cello_A3_05_fortissimo_arco-normal.mp3\n",
      "get 126 of 600 = /content/BasicsMusicalInstrumClassifi/audio/london_phill_dataset_multi/cello/cello_A2_05_fortissimo_arco-normal.mp3\n",
      "get 127 of 600 = /content/BasicsMusicalInstrumClassifi/audio/london_phill_dataset_multi/cello/cello_A3_025_mezzo-forte_arco-col-legno-battuto.mp3\n",
      "get 128 of 600 = /content/BasicsMusicalInstrumClassifi/audio/london_phill_dataset_multi/cello/cello_A3_1_pianissimo_arco-normal.mp3\n",
      "get 129 of 600 = /content/BasicsMusicalInstrumClassifi/audio/london_phill_dataset_multi/cello/cello_A2_15_pianissimo_arco-normal.mp3\n",
      "get 130 of 600 = /content/BasicsMusicalInstrumClassifi/audio/london_phill_dataset_multi/cello/cello_Gs4_025_forte_arco-normal.mp3\n",
      "get 131 of 600 = /content/BasicsMusicalInstrumClassifi/audio/london_phill_dataset_multi/cello/cello_Gs5_15_fortissimo_arco-normal.mp3\n",
      "get 132 of 600 = /content/BasicsMusicalInstrumClassifi/audio/london_phill_dataset_multi/cello/cello_Gs4_1_pianissimo_arco-normal.mp3\n",
      "get 133 of 600 = /content/BasicsMusicalInstrumClassifi/audio/london_phill_dataset_multi/cello/cello_A3_025_pianissimo_arco-normal.mp3\n",
      "get 134 of 600 = /content/BasicsMusicalInstrumClassifi/audio/london_phill_dataset_multi/cello/cello_Gs5_1_pianissimo_arco-normal.mp3\n",
      "get 135 of 600 = /content/BasicsMusicalInstrumClassifi/audio/london_phill_dataset_multi/cello/cello_A3_025_fortissimo_arco-normal.mp3\n",
      "get 136 of 600 = /content/BasicsMusicalInstrumClassifi/audio/london_phill_dataset_multi/cello/cello_Gs3_05_fortissimo_arco-normal.mp3\n",
      "get 137 of 600 = /content/BasicsMusicalInstrumClassifi/audio/london_phill_dataset_multi/cello/cello_Gs4_05_forte_arco-normal.mp3\n",
      "get 138 of 600 = /content/BasicsMusicalInstrumClassifi/audio/london_phill_dataset_multi/cello/cello_A3_15_mezzo-piano_arco-normal.mp3\n",
      "get 139 of 600 = /content/BasicsMusicalInstrumClassifi/audio/london_phill_dataset_multi/cello/cello_A3_05_mezzo-piano_arco-normal.mp3\n",
      "get 140 of 600 = /content/BasicsMusicalInstrumClassifi/audio/london_phill_dataset_multi/cello/cello_Gs4_025_mezzo-piano_arco-normal.mp3\n",
      "get 141 of 600 = /content/BasicsMusicalInstrumClassifi/audio/london_phill_dataset_multi/cello/cello_Gs5_025_mezzo-piano_arco-normal.mp3\n",
      "get 142 of 600 = /content/BasicsMusicalInstrumClassifi/audio/london_phill_dataset_multi/cello/cello_Gs4_15_pianissimo_arco-normal.mp3\n",
      "get 143 of 600 = /content/BasicsMusicalInstrumClassifi/audio/london_phill_dataset_multi/cello/cello_A3_1_mezzo-piano_arco-minor-trill.mp3\n",
      "get 144 of 600 = /content/BasicsMusicalInstrumClassifi/audio/london_phill_dataset_multi/cello/cello_A4_025_forte_arco-normal.mp3\n",
      "get 145 of 600 = /content/BasicsMusicalInstrumClassifi/audio/london_phill_dataset_multi/cello/cello_Gs3_15_piano_arco-normal.mp3\n",
      "get 146 of 600 = /content/BasicsMusicalInstrumClassifi/audio/london_phill_dataset_multi/cello/cello_Gs3_15_fortissimo_arco-normal.mp3\n",
      "get 147 of 600 = /content/BasicsMusicalInstrumClassifi/audio/london_phill_dataset_multi/cello/cello_A2_05_pianissimo_arco-normal.mp3\n",
      "get 148 of 600 = /content/BasicsMusicalInstrumClassifi/audio/london_phill_dataset_multi/cello/cello_A2_025_pianissimo_arco-normal.mp3\n",
      "get 149 of 600 = /content/BasicsMusicalInstrumClassifi/audio/london_phill_dataset_multi/cello/cello_Gs5_05_forte_arco-normal.mp3\n",
      "get 150 of 600 = /content/BasicsMusicalInstrumClassifi/audio/london_phill_dataset_multi/cello/cello_Gs5_15_forte_arco-normal.mp3\n",
      "get 151 of 600 = /content/BasicsMusicalInstrumClassifi/audio/london_phill_dataset_multi/cello/cello_A4_1_pianissimo_arco-normal.mp3\n",
      "get 152 of 600 = /content/BasicsMusicalInstrumClassifi/audio/london_phill_dataset_multi/cello/cello_A4_05_forte_arco-normal.mp3\n",
      "get 153 of 600 = /content/BasicsMusicalInstrumClassifi/audio/london_phill_dataset_multi/cello/cello_Gs4_1_mezzo-piano_arco-normal.mp3\n",
      "get 154 of 600 = /content/BasicsMusicalInstrumClassifi/audio/london_phill_dataset_multi/cello/cello_Gs3_1_mezzo-piano_arco-normal.mp3\n",
      "get 155 of 600 = /content/BasicsMusicalInstrumClassifi/audio/london_phill_dataset_multi/cello/cello_A3_15_forte_arco-normal.mp3\n",
      "get 156 of 600 = /content/BasicsMusicalInstrumClassifi/audio/london_phill_dataset_multi/cello/cello_Gs5_15_mezzo-piano_arco-normal.mp3\n",
      "get 157 of 600 = /content/BasicsMusicalInstrumClassifi/audio/london_phill_dataset_multi/cello/cello_Gs4_1_fortissimo_arco-normal.mp3\n",
      "get 158 of 600 = /content/BasicsMusicalInstrumClassifi/audio/london_phill_dataset_multi/cello/cello_Gs5_1_fortissimo_arco-normal.mp3\n",
      "get 159 of 600 = /content/BasicsMusicalInstrumClassifi/audio/london_phill_dataset_multi/cello/cello_Gs5_05_pianissimo_arco-normal.mp3\n",
      "get 160 of 600 = /content/BasicsMusicalInstrumClassifi/audio/london_phill_dataset_multi/cello/cello_A2_1_pianissimo_arco-normal.mp3\n",
      "get 161 of 600 = /content/BasicsMusicalInstrumClassifi/audio/london_phill_dataset_multi/cello/cello_A4_05_mezzo-piano_arco-normal.mp3\n",
      "get 162 of 600 = /content/BasicsMusicalInstrumClassifi/audio/london_phill_dataset_multi/cello/cello_Gs4_15_mezzo-piano_arco-normal.mp3\n",
      "get 163 of 600 = /content/BasicsMusicalInstrumClassifi/audio/london_phill_dataset_multi/cello/cello_A2_15_piano_arco-normal.mp3\n",
      "get 164 of 600 = /content/BasicsMusicalInstrumClassifi/audio/london_phill_dataset_multi/cello/cello_A2_1_mezzo-piano_arco-normal.mp3\n",
      "get 165 of 600 = /content/BasicsMusicalInstrumClassifi/audio/london_phill_dataset_multi/cello/cello_Gs5_1_mezzo-piano_arco-normal.mp3\n",
      "get 166 of 600 = /content/BasicsMusicalInstrumClassifi/audio/london_phill_dataset_multi/cello/cello_Gs2_025_pianissimo_arco-normal.mp3\n",
      "get 167 of 600 = /content/BasicsMusicalInstrumClassifi/audio/london_phill_dataset_multi/cello/cello_Gs5_025_fortissimo_arco-normal.mp3\n",
      "get 168 of 600 = /content/BasicsMusicalInstrumClassifi/audio/london_phill_dataset_multi/cello/cello_A3_1_mezzo-piano_arco-normal.mp3\n",
      "get 169 of 600 = /content/BasicsMusicalInstrumClassifi/audio/london_phill_dataset_multi/cello/cello_Gs5_15_pianissimo_arco-normal.mp3\n",
      "get 170 of 600 = /content/BasicsMusicalInstrumClassifi/audio/london_phill_dataset_multi/cello/cello_Gs5_1_mezzo-forte_arco-harmonic.mp3\n",
      "get 171 of 600 = /content/BasicsMusicalInstrumClassifi/audio/london_phill_dataset_multi/cello/cello_A3_1_fortissimo_arco-normal.mp3\n",
      "get 172 of 600 = /content/BasicsMusicalInstrumClassifi/audio/london_phill_dataset_multi/cello/cello_A4_1_mezzo-piano_molto-vibrato.mp3\n",
      "get 173 of 600 = /content/BasicsMusicalInstrumClassifi/audio/london_phill_dataset_multi/cello/cello_Gs3_05_mezzo-piano_arco-normal.mp3\n",
      "get 174 of 600 = /content/BasicsMusicalInstrumClassifi/audio/london_phill_dataset_multi/cello/cello_A2_025_fortissimo_arco-normal.mp3\n",
      "get 175 of 600 = /content/BasicsMusicalInstrumClassifi/audio/london_phill_dataset_multi/cello/cello_A2_025_mezzo-piano_arco-normal.mp3\n",
      "get 176 of 600 = /content/BasicsMusicalInstrumClassifi/audio/london_phill_dataset_multi/cello/cello_A4_05_pianissimo_arco-normal.mp3\n",
      "get 177 of 600 = /content/BasicsMusicalInstrumClassifi/audio/london_phill_dataset_multi/cello/cello_A2_025_mezzo-forte_arco-col-legno-battuto.mp3\n",
      "get 178 of 600 = /content/BasicsMusicalInstrumClassifi/audio/london_phill_dataset_multi/cello/cello_A4_1_mezzo-piano_arco-minor-trill.mp3\n",
      "get 179 of 600 = /content/BasicsMusicalInstrumClassifi/audio/london_phill_dataset_multi/cello/cello_Gs5_1_forte_arco-normal.mp3\n",
      "get 180 of 600 = /content/BasicsMusicalInstrumClassifi/audio/london_phill_dataset_multi/cello/cello_A2_1_fortissimo_arco-normal.mp3\n",
      "get 181 of 600 = /content/BasicsMusicalInstrumClassifi/audio/london_phill_dataset_multi/cello/cello_A2_1_mezzo-piano_non-vibrato.mp3\n",
      "get 182 of 600 = /content/BasicsMusicalInstrumClassifi/audio/london_phill_dataset_multi/cello/cello_A3_05_forte_arco-normal.mp3\n",
      "get 183 of 600 = /content/BasicsMusicalInstrumClassifi/audio/london_phill_dataset_multi/cello/cello_A4_1_mezzo-forte_arco-harmonic.mp3\n",
      "get 184 of 600 = /content/BasicsMusicalInstrumClassifi/audio/london_phill_dataset_multi/cello/cello_A2_15_forte_arco-normal.mp3\n",
      "get 185 of 600 = /content/BasicsMusicalInstrumClassifi/audio/london_phill_dataset_multi/cello/cello_Gs4_05_pianissimo_arco-normal.mp3\n",
      "get 186 of 600 = /content/BasicsMusicalInstrumClassifi/audio/london_phill_dataset_multi/cello/cello_Gs3_05_forte_arco-normal.mp3\n",
      "get 187 of 600 = /content/BasicsMusicalInstrumClassifi/audio/london_phill_dataset_multi/cello/cello_Gs5_05_mezzo-piano_arco-normal.mp3\n",
      "get 188 of 600 = /content/BasicsMusicalInstrumClassifi/audio/london_phill_dataset_multi/cello/cello_Gs4_025_pianissimo_arco-normal.mp3\n",
      "get 189 of 600 = /content/BasicsMusicalInstrumClassifi/audio/london_phill_dataset_multi/cello/cello_Gs4_15_fortissimo_arco-normal.mp3\n",
      "get 190 of 600 = /content/BasicsMusicalInstrumClassifi/audio/london_phill_dataset_multi/cello/cello_Gs3_025_pianissimo_arco-normal.mp3\n",
      "get 191 of 600 = /content/BasicsMusicalInstrumClassifi/audio/london_phill_dataset_multi/cello/cello_Gs3_15_forte_arco-normal.mp3\n",
      "get 192 of 600 = /content/BasicsMusicalInstrumClassifi/audio/london_phill_dataset_multi/cello/cello_Gs4_15_forte_arco-normal.mp3\n",
      "get 193 of 600 = /content/BasicsMusicalInstrumClassifi/audio/london_phill_dataset_multi/cello/cello_A2_1_forte_arco-normal.mp3\n",
      "get 194 of 600 = /content/BasicsMusicalInstrumClassifi/audio/london_phill_dataset_multi/cello/cello_A4_1_mezzo-piano_arco-normal.mp3\n",
      "get 195 of 600 = /content/BasicsMusicalInstrumClassifi/audio/london_phill_dataset_multi/cello/cello_A2_025_forte_arco-normal.mp3\n",
      "get 196 of 600 = /content/BasicsMusicalInstrumClassifi/audio/london_phill_dataset_multi/cello/cello_A4_15_mezzo-piano_arco-normal.mp3\n",
      "get 197 of 600 = /content/BasicsMusicalInstrumClassifi/audio/london_phill_dataset_multi/cello/cello_Gs3_1_pianissimo_arco-normal.mp3\n",
      "get 198 of 600 = /content/BasicsMusicalInstrumClassifi/audio/london_phill_dataset_multi/cello/cello_Gs5_025_forte_arco-normal.mp3\n",
      "get 199 of 600 = /content/BasicsMusicalInstrumClassifi/audio/london_phill_dataset_multi/cello/cello_A3_025_forte_arco-normal.mp3\n",
      "get 200 of 600 = /content/BasicsMusicalInstrumClassifi/audio/london_phill_dataset_multi/cello/cello_Gs5_025_pianissimo_arco-normal.mp3\n",
      "get 201 of 600 = /content/BasicsMusicalInstrumClassifi/audio/london_phill_dataset_multi/oboe/oboe_Gs5_025_fortissimo_normal.mp3\n",
      "get 202 of 600 = /content/BasicsMusicalInstrumClassifi/audio/london_phill_dataset_multi/oboe/oboe_A5_1_mezzo-forte_normal.mp3\n",
      "get 203 of 600 = /content/BasicsMusicalInstrumClassifi/audio/london_phill_dataset_multi/oboe/oboe_Gs6_1_piano_normal.mp3\n",
      "get 204 of 600 = /content/BasicsMusicalInstrumClassifi/audio/london_phill_dataset_multi/oboe/oboe_Gs5_05_fortissimo_normal.mp3\n",
      "get 205 of 600 = /content/BasicsMusicalInstrumClassifi/audio/london_phill_dataset_multi/oboe/oboe_As3_05_piano_normal.mp3\n",
      "get 206 of 600 = /content/BasicsMusicalInstrumClassifi/audio/london_phill_dataset_multi/oboe/oboe_Gs5_05_forte_normal.mp3\n",
      "get 207 of 600 = /content/BasicsMusicalInstrumClassifi/audio/london_phill_dataset_multi/oboe/oboe_A4_05_piano_normal.mp3\n",
      "get 208 of 600 = /content/BasicsMusicalInstrumClassifi/audio/london_phill_dataset_multi/oboe/oboe_Gs6_05_mezzo-forte_normal.mp3\n",
      "get 209 of 600 = /content/BasicsMusicalInstrumClassifi/audio/london_phill_dataset_multi/oboe/oboe_A4_1_piano_normal.mp3\n",
      "get 210 of 600 = /content/BasicsMusicalInstrumClassifi/audio/london_phill_dataset_multi/oboe/oboe_Gs4_05_forte_normal.mp3\n",
      "get 211 of 600 = /content/BasicsMusicalInstrumClassifi/audio/london_phill_dataset_multi/oboe/oboe_Gs6_1_forte_normal.mp3\n",
      "get 212 of 600 = /content/BasicsMusicalInstrumClassifi/audio/london_phill_dataset_multi/oboe/oboe_Gs6_025_mezzo-forte_normal.mp3\n",
      "get 213 of 600 = /content/BasicsMusicalInstrumClassifi/audio/london_phill_dataset_multi/oboe/oboe_Gs6_025_forte_normal.mp3\n",
      "get 214 of 600 = /content/BasicsMusicalInstrumClassifi/audio/london_phill_dataset_multi/oboe/oboe_Gs6_15_piano_normal.mp3\n",
      "get 215 of 600 = /content/BasicsMusicalInstrumClassifi/audio/london_phill_dataset_multi/oboe/oboe_Gs4_1_forte_normal.mp3\n",
      "get 216 of 600 = /content/BasicsMusicalInstrumClassifi/audio/london_phill_dataset_multi/oboe/oboe_A5_05_piano_normal.mp3\n",
      "get 217 of 600 = /content/BasicsMusicalInstrumClassifi/audio/london_phill_dataset_multi/oboe/oboe_A4_15_piano_normal.mp3\n",
      "get 218 of 600 = /content/BasicsMusicalInstrumClassifi/audio/london_phill_dataset_multi/oboe/oboe_Gs5_1_forte_normal.mp3\n",
      "get 219 of 600 = /content/BasicsMusicalInstrumClassifi/audio/london_phill_dataset_multi/oboe/oboe_Gs5_05_piano_normal.mp3\n",
      "get 220 of 600 = /content/BasicsMusicalInstrumClassifi/audio/london_phill_dataset_multi/oboe/oboe_A6_1_forte_major-trill.mp3\n",
      "get 221 of 600 = /content/BasicsMusicalInstrumClassifi/audio/london_phill_dataset_multi/oboe/oboe_Gs4_15_fortissimo_normal.mp3\n",
      "get 222 of 600 = /content/BasicsMusicalInstrumClassifi/audio/london_phill_dataset_multi/oboe/oboe_A5_1_forte_normal.mp3\n",
      "get 223 of 600 = /content/BasicsMusicalInstrumClassifi/audio/london_phill_dataset_multi/oboe/oboe_Gs4_025_piano_normal.mp3\n",
      "get 224 of 600 = /content/BasicsMusicalInstrumClassifi/audio/london_phill_dataset_multi/oboe/oboe_A5_025_mezzo-forte_normal.mp3\n",
      "get 225 of 600 = /content/BasicsMusicalInstrumClassifi/audio/london_phill_dataset_multi/oboe/oboe_Gs4_05_piano_normal.mp3\n",
      "get 226 of 600 = /content/BasicsMusicalInstrumClassifi/audio/london_phill_dataset_multi/oboe/oboe_As3_1_mezzo-forte_normal.mp3\n",
      "get 227 of 600 = /content/BasicsMusicalInstrumClassifi/audio/london_phill_dataset_multi/oboe/oboe_Gs4_025_forte_normal.mp3\n",
      "get 228 of 600 = /content/BasicsMusicalInstrumClassifi/audio/london_phill_dataset_multi/oboe/oboe_Gs4_1_forte_minor-trill.mp3\n",
      "get 229 of 600 = /content/BasicsMusicalInstrumClassifi/audio/london_phill_dataset_multi/oboe/oboe_A6_1_piano_normal.mp3\n",
      "get 230 of 600 = /content/BasicsMusicalInstrumClassifi/audio/london_phill_dataset_multi/oboe/oboe_Gs4_025_mezzo-forte_normal.mp3\n",
      "get 231 of 600 = /content/BasicsMusicalInstrumClassifi/audio/london_phill_dataset_multi/oboe/oboe_As3_1_forte_normal.mp3\n",
      "get 232 of 600 = /content/BasicsMusicalInstrumClassifi/audio/london_phill_dataset_multi/oboe/oboe_Gs6_025_piano_normal.mp3\n",
      "get 233 of 600 = /content/BasicsMusicalInstrumClassifi/audio/london_phill_dataset_multi/oboe/oboe_A6_1_forte_minor-trill.mp3\n",
      "get 234 of 600 = /content/BasicsMusicalInstrumClassifi/audio/london_phill_dataset_multi/oboe/oboe_As3_05_forte_normal.mp3\n",
      "get 235 of 600 = /content/BasicsMusicalInstrumClassifi/audio/london_phill_dataset_multi/oboe/oboe_Gs5_025_forte_normal.mp3\n",
      "get 236 of 600 = /content/BasicsMusicalInstrumClassifi/audio/london_phill_dataset_multi/oboe/oboe_A4_05_forte_normal.mp3\n",
      "get 237 of 600 = /content/BasicsMusicalInstrumClassifi/audio/london_phill_dataset_multi/oboe/oboe_Gs5_15_piano_normal.mp3\n",
      "get 238 of 600 = /content/BasicsMusicalInstrumClassifi/audio/london_phill_dataset_multi/oboe/oboe_A5_025_piano_normal.mp3\n",
      "get 239 of 600 = /content/BasicsMusicalInstrumClassifi/audio/london_phill_dataset_multi/oboe/oboe_A5_1_forte_minor-trill.mp3\n",
      "get 240 of 600 = /content/BasicsMusicalInstrumClassifi/audio/london_phill_dataset_multi/oboe/oboe_Gs4_05_mezzo-forte_normal.mp3\n",
      "get 241 of 600 = /content/BasicsMusicalInstrumClassifi/audio/london_phill_dataset_multi/oboe/oboe_A4_05_fortissimo_normal.mp3\n",
      "get 242 of 600 = /content/BasicsMusicalInstrumClassifi/audio/london_phill_dataset_multi/oboe/oboe_A6_025_piano_normal.mp3\n",
      "get 243 of 600 = /content/BasicsMusicalInstrumClassifi/audio/london_phill_dataset_multi/oboe/oboe_Gs6_15_mezzo-forte_normal.mp3\n",
      "get 244 of 600 = /content/BasicsMusicalInstrumClassifi/audio/london_phill_dataset_multi/oboe/oboe_Ds6_15_forte_normal.mp3\n",
      "get 245 of 600 = /content/BasicsMusicalInstrumClassifi/audio/london_phill_dataset_multi/oboe/oboe_A5_15_fortissimo_normal.mp3\n",
      "get 246 of 600 = /content/BasicsMusicalInstrumClassifi/audio/london_phill_dataset_multi/oboe/oboe_A5_05_forte_normal.mp3\n",
      "get 247 of 600 = /content/BasicsMusicalInstrumClassifi/audio/london_phill_dataset_multi/oboe/oboe_A5_025_fortissimo_normal.mp3\n",
      "get 248 of 600 = /content/BasicsMusicalInstrumClassifi/audio/london_phill_dataset_multi/oboe/oboe_A5_15_piano_normal.mp3\n",
      "get 249 of 600 = /content/BasicsMusicalInstrumClassifi/audio/london_phill_dataset_multi/oboe/oboe_Gs5_15_fortissimo_normal.mp3\n",
      "get 250 of 600 = /content/BasicsMusicalInstrumClassifi/audio/london_phill_dataset_multi/oboe/oboe_A5_1_piano_normal.mp3\n",
      "get 251 of 600 = /content/BasicsMusicalInstrumClassifi/audio/london_phill_dataset_multi/oboe/oboe_Gs6_15_forte_normal.mp3\n",
      "get 252 of 600 = /content/BasicsMusicalInstrumClassifi/audio/london_phill_dataset_multi/oboe/oboe_Gs6_1_mezzo-forte_normal.mp3\n",
      "get 253 of 600 = /content/BasicsMusicalInstrumClassifi/audio/london_phill_dataset_multi/oboe/oboe_A5_1_forte_major-trill.mp3\n",
      "get 254 of 600 = /content/BasicsMusicalInstrumClassifi/audio/london_phill_dataset_multi/oboe/oboe_As3_15_forte_normal.mp3\n",
      "get 255 of 600 = /content/BasicsMusicalInstrumClassifi/audio/london_phill_dataset_multi/oboe/oboe_Gs4_1_forte_major-trill.mp3\n",
      "get 256 of 600 = /content/BasicsMusicalInstrumClassifi/audio/london_phill_dataset_multi/oboe/oboe_A5_025_forte_normal.mp3\n",
      "get 257 of 600 = /content/BasicsMusicalInstrumClassifi/audio/london_phill_dataset_multi/oboe/oboe_Ds6_05_piano_normal.mp3\n",
      "get 258 of 600 = /content/BasicsMusicalInstrumClassifi/audio/london_phill_dataset_multi/oboe/oboe_Gs5_1_mezzo-forte_normal.mp3\n",
      "get 259 of 600 = /content/BasicsMusicalInstrumClassifi/audio/london_phill_dataset_multi/oboe/oboe_A4_025_fortissimo_normal.mp3\n",
      "get 260 of 600 = /content/BasicsMusicalInstrumClassifi/audio/london_phill_dataset_multi/oboe/oboe_Gs4_025_fortissimo_normal.mp3\n",
      "get 261 of 600 = /content/BasicsMusicalInstrumClassifi/audio/london_phill_dataset_multi/oboe/oboe_Gs4_15_piano_normal.mp3\n",
      "get 262 of 600 = /content/BasicsMusicalInstrumClassifi/audio/london_phill_dataset_multi/oboe/oboe_A5_15_forte_normal.mp3\n",
      "get 263 of 600 = /content/BasicsMusicalInstrumClassifi/audio/london_phill_dataset_multi/oboe/oboe_G6_025_piano_normal.mp3\n",
      "get 264 of 600 = /content/BasicsMusicalInstrumClassifi/audio/london_phill_dataset_multi/oboe/oboe_As3_15_fortissimo_normal.mp3\n",
      "get 265 of 600 = /content/BasicsMusicalInstrumClassifi/audio/london_phill_dataset_multi/oboe/oboe_Gs5_1_fortissimo_normal.mp3\n",
      "get 266 of 600 = /content/BasicsMusicalInstrumClassifi/audio/london_phill_dataset_multi/oboe/oboe_A6_15_piano_normal.mp3\n",
      "get 267 of 600 = /content/BasicsMusicalInstrumClassifi/audio/london_phill_dataset_multi/oboe/oboe_Gs4_1_piano_normal.mp3\n",
      "get 268 of 600 = /content/BasicsMusicalInstrumClassifi/audio/london_phill_dataset_multi/oboe/oboe_A6_05_piano_normal.mp3\n",
      "get 269 of 600 = /content/BasicsMusicalInstrumClassifi/audio/london_phill_dataset_multi/oboe/oboe_As3_1_piano_normal.mp3\n",
      "get 270 of 600 = /content/BasicsMusicalInstrumClassifi/audio/london_phill_dataset_multi/oboe/oboe_Gs6_05_piano_normal.mp3\n",
      "get 271 of 600 = /content/BasicsMusicalInstrumClassifi/audio/london_phill_dataset_multi/oboe/oboe_A4_025_piano_normal.mp3\n",
      "get 272 of 600 = /content/BasicsMusicalInstrumClassifi/audio/london_phill_dataset_multi/oboe/oboe_A4_1_mezzo-forte_normal.mp3\n",
      "get 273 of 600 = /content/BasicsMusicalInstrumClassifi/audio/london_phill_dataset_multi/oboe/oboe_Gs5_025_piano_normal.mp3\n",
      "get 274 of 600 = /content/BasicsMusicalInstrumClassifi/audio/london_phill_dataset_multi/oboe/oboe_Gs5_025_mezzo-forte_normal.mp3\n",
      "get 275 of 600 = /content/BasicsMusicalInstrumClassifi/audio/london_phill_dataset_multi/oboe/oboe_Gs5_1_piano_normal.mp3\n",
      "get 276 of 600 = /content/BasicsMusicalInstrumClassifi/audio/london_phill_dataset_multi/oboe/oboe_As3_05_mezzo-forte_normal.mp3\n",
      "get 277 of 600 = /content/BasicsMusicalInstrumClassifi/audio/london_phill_dataset_multi/oboe/oboe_As3_05_fortissimo_normal.mp3\n",
      "get 278 of 600 = /content/BasicsMusicalInstrumClassifi/audio/london_phill_dataset_multi/oboe/oboe_Gs4_15_forte_normal.mp3\n",
      "get 279 of 600 = /content/BasicsMusicalInstrumClassifi/audio/london_phill_dataset_multi/oboe/oboe_A5_15_mezzo-forte_normal.mp3\n",
      "get 280 of 600 = /content/BasicsMusicalInstrumClassifi/audio/london_phill_dataset_multi/oboe/oboe_A4_1_fortissimo_normal.mp3\n",
      "get 281 of 600 = /content/BasicsMusicalInstrumClassifi/audio/london_phill_dataset_multi/oboe/oboe_As3_15_mezzo-forte_normal.mp3\n",
      "get 282 of 600 = /content/BasicsMusicalInstrumClassifi/audio/london_phill_dataset_multi/oboe/oboe_A5_05_fortissimo_normal.mp3\n",
      "get 283 of 600 = /content/BasicsMusicalInstrumClassifi/audio/london_phill_dataset_multi/oboe/oboe_Gs4_1_mezzo-forte_normal.mp3\n",
      "get 284 of 600 = /content/BasicsMusicalInstrumClassifi/audio/london_phill_dataset_multi/oboe/oboe_Gs4_1_fortissimo_normal.mp3\n",
      "get 285 of 600 = /content/BasicsMusicalInstrumClassifi/audio/london_phill_dataset_multi/oboe/oboe_Gs4_05_fortissimo_normal.mp3\n",
      "get 286 of 600 = /content/BasicsMusicalInstrumClassifi/audio/london_phill_dataset_multi/oboe/oboe_A4_025_forte_normal.mp3\n",
      "get 287 of 600 = /content/BasicsMusicalInstrumClassifi/audio/london_phill_dataset_multi/oboe/oboe_Gs5_05_mezzo-forte_normal.mp3\n",
      "get 288 of 600 = /content/BasicsMusicalInstrumClassifi/audio/london_phill_dataset_multi/oboe/oboe_Gs5_15_mezzo-forte_normal.mp3\n",
      "get 289 of 600 = /content/BasicsMusicalInstrumClassifi/audio/london_phill_dataset_multi/oboe/oboe_A5_1_fortissimo_normal.mp3\n",
      "get 290 of 600 = /content/BasicsMusicalInstrumClassifi/audio/london_phill_dataset_multi/oboe/oboe_A4_15_forte_normal.mp3\n",
      "get 291 of 600 = /content/BasicsMusicalInstrumClassifi/audio/london_phill_dataset_multi/oboe/oboe_G6_025_mezzo-forte_normal.mp3\n",
      "get 292 of 600 = /content/BasicsMusicalInstrumClassifi/audio/london_phill_dataset_multi/oboe/oboe_As3_1_fortissimo_normal.mp3\n",
      "get 293 of 600 = /content/BasicsMusicalInstrumClassifi/audio/london_phill_dataset_multi/oboe/oboe_Ds6_05_fortissimo_normal.mp3\n",
      "get 294 of 600 = /content/BasicsMusicalInstrumClassifi/audio/london_phill_dataset_multi/oboe/oboe_A4_1_forte_normal.mp3\n",
      "get 295 of 600 = /content/BasicsMusicalInstrumClassifi/audio/london_phill_dataset_multi/oboe/oboe_G6_025_forte_normal.mp3\n",
      "get 296 of 600 = /content/BasicsMusicalInstrumClassifi/audio/london_phill_dataset_multi/oboe/oboe_Gs5_15_forte_normal.mp3\n",
      "get 297 of 600 = /content/BasicsMusicalInstrumClassifi/audio/london_phill_dataset_multi/oboe/oboe_Gs4_15_mezzo-forte_normal.mp3\n",
      "get 298 of 600 = /content/BasicsMusicalInstrumClassifi/audio/london_phill_dataset_multi/oboe/oboe_A5_05_mezzo-forte_normal.mp3\n",
      "get 299 of 600 = /content/BasicsMusicalInstrumClassifi/audio/london_phill_dataset_multi/oboe/oboe_Gs6_05_forte_normal.mp3\n",
      "get 300 of 600 = /content/BasicsMusicalInstrumClassifi/audio/london_phill_dataset_multi/oboe/oboe_Ds6_05_mezzo-forte_normal.mp3\n",
      "get 301 of 600 = /content/BasicsMusicalInstrumClassifi/audio/london_phill_dataset_multi/flute/flute_A4_1_piano_normal.mp3\n",
      "get 302 of 600 = /content/BasicsMusicalInstrumClassifi/audio/london_phill_dataset_multi/flute/flute_A4_15_piano_normal.mp3\n",
      "get 303 of 600 = /content/BasicsMusicalInstrumClassifi/audio/london_phill_dataset_multi/flute/flute_A6_05_pianissimo_normal.mp3\n",
      "get 304 of 600 = /content/BasicsMusicalInstrumClassifi/audio/london_phill_dataset_multi/flute/flute_A5_025_forte_normal.mp3\n",
      "get 305 of 600 = /content/BasicsMusicalInstrumClassifi/audio/london_phill_dataset_multi/flute/flute_A4_05_forte_normal.mp3\n",
      "get 306 of 600 = /content/BasicsMusicalInstrumClassifi/audio/london_phill_dataset_multi/flute/flute_A5_05_mezzo-piano_normal.mp3\n",
      "get 307 of 600 = /content/BasicsMusicalInstrumClassifi/audio/london_phill_dataset_multi/flute/flute_Gs5_025_mezzo-forte_normal.mp3\n",
      "get 308 of 600 = /content/BasicsMusicalInstrumClassifi/audio/london_phill_dataset_multi/flute/flute_A4_15_forte_normal.mp3\n",
      "get 309 of 600 = /content/BasicsMusicalInstrumClassifi/audio/london_phill_dataset_multi/flute/flute_A5_15_mezzo-forte_normal.mp3\n",
      "get 310 of 600 = /content/BasicsMusicalInstrumClassifi/audio/london_phill_dataset_multi/flute/flute_Gs5_1_forte_normal.mp3\n",
      "get 311 of 600 = /content/BasicsMusicalInstrumClassifi/audio/london_phill_dataset_multi/flute/flute_A4_05_mezzo-forte_normal.mp3\n",
      "get 312 of 600 = /content/BasicsMusicalInstrumClassifi/audio/london_phill_dataset_multi/flute/flute_Gs5_1_pianissimo_normal.mp3\n",
      "get 313 of 600 = /content/BasicsMusicalInstrumClassifi/audio/london_phill_dataset_multi/flute/flute_Gs5_05_mezzo-piano_normal.mp3\n",
      "get 314 of 600 = /content/BasicsMusicalInstrumClassifi/audio/london_phill_dataset_multi/flute/flute_A4_025_mezzo-piano_normal.mp3\n",
      "get 315 of 600 = /content/BasicsMusicalInstrumClassifi/audio/london_phill_dataset_multi/flute/flute_A5_05_pianissimo_normal.mp3\n",
      "get 316 of 600 = /content/BasicsMusicalInstrumClassifi/audio/london_phill_dataset_multi/flute/flute_A4_025_pianissimo_normal.mp3\n",
      "get 317 of 600 = /content/BasicsMusicalInstrumClassifi/audio/london_phill_dataset_multi/flute/flute_A5_025_pianissimo_normal.mp3\n",
      "get 318 of 600 = /content/BasicsMusicalInstrumClassifi/audio/london_phill_dataset_multi/flute/flute_A4_025_mezzo-forte_normal.mp3\n",
      "get 319 of 600 = /content/BasicsMusicalInstrumClassifi/audio/london_phill_dataset_multi/flute/flute_A6_1_pianissimo_normal.mp3\n",
      "get 320 of 600 = /content/BasicsMusicalInstrumClassifi/audio/london_phill_dataset_multi/flute/flute_Gs6_1_mezzo-forte_normal.mp3\n",
      "get 321 of 600 = /content/BasicsMusicalInstrumClassifi/audio/london_phill_dataset_multi/flute/flute_Gs5_15_mezzo-piano_normal.mp3\n",
      "get 322 of 600 = /content/BasicsMusicalInstrumClassifi/audio/london_phill_dataset_multi/flute/flute_A6_05_forte_normal.mp3\n",
      "get 323 of 600 = /content/BasicsMusicalInstrumClassifi/audio/london_phill_dataset_multi/flute/flute_A5_15_forte_normal.mp3\n",
      "get 324 of 600 = /content/BasicsMusicalInstrumClassifi/audio/london_phill_dataset_multi/flute/flute_A4_15_pianissimo_normal.mp3\n",
      "get 325 of 600 = /content/BasicsMusicalInstrumClassifi/audio/london_phill_dataset_multi/flute/flute_Gs5_05_mezzo-forte_normal.mp3\n",
      "get 326 of 600 = /content/BasicsMusicalInstrumClassifi/audio/london_phill_dataset_multi/flute/flute_Gs6_15_forte_normal.mp3\n",
      "get 327 of 600 = /content/BasicsMusicalInstrumClassifi/audio/london_phill_dataset_multi/flute/flute_Gs6_05_piano_normal.mp3\n",
      "get 328 of 600 = /content/BasicsMusicalInstrumClassifi/audio/london_phill_dataset_multi/flute/flute_A4_05_piano_normal.mp3\n",
      "get 329 of 600 = /content/BasicsMusicalInstrumClassifi/audio/london_phill_dataset_multi/flute/flute_Gs4_15_mezzo-forte_normal.mp3\n",
      "get 330 of 600 = /content/BasicsMusicalInstrumClassifi/audio/london_phill_dataset_multi/flute/flute_Gs5_05_piano_normal.mp3\n",
      "get 331 of 600 = /content/BasicsMusicalInstrumClassifi/audio/london_phill_dataset_multi/flute/flute_A5_05_piano_normal.mp3\n",
      "get 332 of 600 = /content/BasicsMusicalInstrumClassifi/audio/london_phill_dataset_multi/flute/flute_Gs4_15_piano_normal.mp3\n",
      "get 333 of 600 = /content/BasicsMusicalInstrumClassifi/audio/london_phill_dataset_multi/flute/flute_Gs6_05_forte_normal.mp3\n",
      "get 334 of 600 = /content/BasicsMusicalInstrumClassifi/audio/london_phill_dataset_multi/flute/flute_Gs5_025_forte_normal.mp3\n",
      "get 335 of 600 = /content/BasicsMusicalInstrumClassifi/audio/london_phill_dataset_multi/flute/flute_A4_1_mezzo-forte_normal.mp3\n",
      "get 336 of 600 = /content/BasicsMusicalInstrumClassifi/audio/london_phill_dataset_multi/flute/flute_Gs6_1_pianissimo_normal.mp3\n",
      "get 337 of 600 = /content/BasicsMusicalInstrumClassifi/audio/london_phill_dataset_multi/flute/flute_A5_1_forte_normal.mp3\n",
      "get 338 of 600 = /content/BasicsMusicalInstrumClassifi/audio/london_phill_dataset_multi/flute/flute_Gs6_15_pianissimo_normal.mp3\n",
      "get 339 of 600 = /content/BasicsMusicalInstrumClassifi/audio/london_phill_dataset_multi/flute/flute_A4_1_pianissimo_normal.mp3\n",
      "get 340 of 600 = /content/BasicsMusicalInstrumClassifi/audio/london_phill_dataset_multi/flute/flute_A6_05_piano_normal.mp3\n",
      "get 341 of 600 = /content/BasicsMusicalInstrumClassifi/audio/london_phill_dataset_multi/flute/flute_A5_025_piano_normal.mp3\n",
      "get 342 of 600 = /content/BasicsMusicalInstrumClassifi/audio/london_phill_dataset_multi/flute/flute_A5_1_pianissimo_normal.mp3\n",
      "get 343 of 600 = /content/BasicsMusicalInstrumClassifi/audio/london_phill_dataset_multi/flute/flute_Gs4_05_piano_normal.mp3\n",
      "get 344 of 600 = /content/BasicsMusicalInstrumClassifi/audio/london_phill_dataset_multi/flute/flute_Gs4_05_forte_normal.mp3\n",
      "get 345 of 600 = /content/BasicsMusicalInstrumClassifi/audio/london_phill_dataset_multi/flute/flute_Gs4_025_mezzo-forte_normal.mp3\n",
      "get 346 of 600 = /content/BasicsMusicalInstrumClassifi/audio/london_phill_dataset_multi/flute/flute_Gs5_025_piano_normal.mp3\n",
      "get 347 of 600 = /content/BasicsMusicalInstrumClassifi/audio/london_phill_dataset_multi/flute/flute_Gs5_025_pianissimo_normal.mp3\n",
      "get 348 of 600 = /content/BasicsMusicalInstrumClassifi/audio/london_phill_dataset_multi/flute/flute_A5_1_mezzo-forte_normal.mp3\n",
      "get 349 of 600 = /content/BasicsMusicalInstrumClassifi/audio/london_phill_dataset_multi/flute/flute_Gs6_025_mezzo-forte_normal.mp3\n",
      "get 350 of 600 = /content/BasicsMusicalInstrumClassifi/audio/london_phill_dataset_multi/flute/flute_A4_15_mezzo-piano_normal.mp3\n",
      "get 351 of 600 = /content/BasicsMusicalInstrumClassifi/audio/london_phill_dataset_multi/flute/flute_Gs6_025_pianissimo_normal.mp3\n",
      "get 352 of 600 = /content/BasicsMusicalInstrumClassifi/audio/london_phill_dataset_multi/flute/flute_A4_05_pianissimo_normal.mp3\n",
      "get 353 of 600 = /content/BasicsMusicalInstrumClassifi/audio/london_phill_dataset_multi/flute/flute_Gs5_15_mezzo-forte_normal.mp3\n",
      "get 354 of 600 = /content/BasicsMusicalInstrumClassifi/audio/london_phill_dataset_multi/flute/flute_A6_1_fortissimo_minor-trill.mp3\n",
      "get 355 of 600 = /content/BasicsMusicalInstrumClassifi/audio/london_phill_dataset_multi/flute/flute_Gs6_15_piano_normal.mp3\n",
      "get 356 of 600 = /content/BasicsMusicalInstrumClassifi/audio/london_phill_dataset_multi/flute/flute_A6_1_mezzo-forte_normal.mp3\n",
      "get 357 of 600 = /content/BasicsMusicalInstrumClassifi/audio/london_phill_dataset_multi/flute/flute_A5_025_mezzo-piano_normal.mp3\n",
      "get 358 of 600 = /content/BasicsMusicalInstrumClassifi/audio/london_phill_dataset_multi/flute/flute_Gs5_1_mezzo-forte_normal.mp3\n",
      "get 359 of 600 = /content/BasicsMusicalInstrumClassifi/audio/london_phill_dataset_multi/flute/flute_A6_1_piano_normal.mp3\n",
      "get 360 of 600 = /content/BasicsMusicalInstrumClassifi/audio/london_phill_dataset_multi/flute/flute_Gs4_05_pianissimo_normal.mp3\n",
      "get 361 of 600 = /content/BasicsMusicalInstrumClassifi/audio/london_phill_dataset_multi/flute/flute_A6_15_forte_normal.mp3\n",
      "get 362 of 600 = /content/BasicsMusicalInstrumClassifi/audio/london_phill_dataset_multi/flute/flute_Gs5_15_forte_normal.mp3\n",
      "get 363 of 600 = /content/BasicsMusicalInstrumClassifi/audio/london_phill_dataset_multi/flute/flute_A5_15_piano_normal.mp3\n",
      "get 364 of 600 = /content/BasicsMusicalInstrumClassifi/audio/london_phill_dataset_multi/flute/flute_A5_1_piano_normal.mp3\n",
      "get 365 of 600 = /content/BasicsMusicalInstrumClassifi/audio/london_phill_dataset_multi/flute/flute_Gs6_05_mezzo-forte_normal.mp3\n",
      "get 366 of 600 = /content/BasicsMusicalInstrumClassifi/audio/london_phill_dataset_multi/flute/flute_Gs4_025_forte_normal.mp3\n",
      "get 367 of 600 = /content/BasicsMusicalInstrumClassifi/audio/london_phill_dataset_multi/flute/flute_Gs4_15_mezzo-piano_normal.mp3\n",
      "get 368 of 600 = /content/BasicsMusicalInstrumClassifi/audio/london_phill_dataset_multi/flute/flute_A5_05_mezzo-forte_normal.mp3\n",
      "get 369 of 600 = /content/BasicsMusicalInstrumClassifi/audio/london_phill_dataset_multi/flute/flute_Gs6_025_piano_normal.mp3\n",
      "get 370 of 600 = /content/BasicsMusicalInstrumClassifi/audio/london_phill_dataset_multi/flute/flute_Gs4_15_pianissimo_normal.mp3\n",
      "get 371 of 600 = /content/BasicsMusicalInstrumClassifi/audio/london_phill_dataset_multi/flute/flute_A4_15_mezzo-forte_normal.mp3\n",
      "get 372 of 600 = /content/BasicsMusicalInstrumClassifi/audio/london_phill_dataset_multi/flute/flute_Gs4_05_mezzo-forte_normal.mp3\n",
      "get 373 of 600 = /content/BasicsMusicalInstrumClassifi/audio/london_phill_dataset_multi/flute/flute_A4_025_piano_normal.mp3\n",
      "get 374 of 600 = /content/BasicsMusicalInstrumClassifi/audio/london_phill_dataset_multi/flute/flute_Gs6_025_forte_normal.mp3\n",
      "get 375 of 600 = /content/BasicsMusicalInstrumClassifi/audio/london_phill_dataset_multi/flute/flute_A5_05_forte_normal.mp3\n",
      "get 376 of 600 = /content/BasicsMusicalInstrumClassifi/audio/london_phill_dataset_multi/flute/flute_A4_025_forte_normal.mp3\n",
      "get 377 of 600 = /content/BasicsMusicalInstrumClassifi/audio/london_phill_dataset_multi/flute/flute_Gs4_15_forte_normal.mp3\n",
      "get 378 of 600 = /content/BasicsMusicalInstrumClassifi/audio/london_phill_dataset_multi/flute/flute_A5_025_mezzo-forte_normal.mp3\n",
      "get 379 of 600 = /content/BasicsMusicalInstrumClassifi/audio/london_phill_dataset_multi/flute/flute_Gs5_025_mezzo-piano_normal.mp3\n",
      "get 380 of 600 = /content/BasicsMusicalInstrumClassifi/audio/london_phill_dataset_multi/flute/flute_Gs6_1_piano_normal.mp3\n",
      "get 381 of 600 = /content/BasicsMusicalInstrumClassifi/audio/london_phill_dataset_multi/flute/flute_A6_1_forte_normal.mp3\n",
      "get 382 of 600 = /content/BasicsMusicalInstrumClassifi/audio/london_phill_dataset_multi/flute/flute_A5_15_pianissimo_normal.mp3\n",
      "get 383 of 600 = /content/BasicsMusicalInstrumClassifi/audio/london_phill_dataset_multi/flute/flute_A6_05_mezzo-forte_normal.mp3\n",
      "get 384 of 600 = /content/BasicsMusicalInstrumClassifi/audio/london_phill_dataset_multi/flute/flute_Gs6_05_pianissimo_normal.mp3\n",
      "get 385 of 600 = /content/BasicsMusicalInstrumClassifi/audio/london_phill_dataset_multi/flute/flute_A5_1_mezzo-piano_normal.mp3\n",
      "get 386 of 600 = /content/BasicsMusicalInstrumClassifi/audio/london_phill_dataset_multi/flute/flute_Gs5_1_piano_normal.mp3\n",
      "get 387 of 600 = /content/BasicsMusicalInstrumClassifi/audio/london_phill_dataset_multi/flute/flute_Gs4_025_pianissimo_normal.mp3\n",
      "get 388 of 600 = /content/BasicsMusicalInstrumClassifi/audio/london_phill_dataset_multi/flute/flute_Gs5_1_mezzo-piano_normal.mp3\n",
      "get 389 of 600 = /content/BasicsMusicalInstrumClassifi/audio/london_phill_dataset_multi/flute/flute_Gs5_05_forte_normal.mp3\n",
      "get 390 of 600 = /content/BasicsMusicalInstrumClassifi/audio/london_phill_dataset_multi/flute/flute_Gs4_05_mezzo-piano_normal.mp3\n",
      "get 391 of 600 = /content/BasicsMusicalInstrumClassifi/audio/london_phill_dataset_multi/flute/flute_A5_15_mezzo-piano_normal.mp3\n",
      "get 392 of 600 = /content/BasicsMusicalInstrumClassifi/audio/london_phill_dataset_multi/flute/flute_Gs4_025_piano_normal.mp3\n",
      "get 393 of 600 = /content/BasicsMusicalInstrumClassifi/audio/london_phill_dataset_multi/flute/flute_Gs5_15_piano_normal.mp3\n",
      "get 394 of 600 = /content/BasicsMusicalInstrumClassifi/audio/london_phill_dataset_multi/flute/flute_Gs4_025_mezzo-piano_normal.mp3\n",
      "get 395 of 600 = /content/BasicsMusicalInstrumClassifi/audio/london_phill_dataset_multi/flute/flute_Gs6_15_mezzo-forte_normal.mp3\n",
      "get 396 of 600 = /content/BasicsMusicalInstrumClassifi/audio/london_phill_dataset_multi/flute/flute_A4_1_forte_normal.mp3\n",
      "get 397 of 600 = /content/BasicsMusicalInstrumClassifi/audio/london_phill_dataset_multi/flute/flute_A4_05_mezzo-piano_normal.mp3\n",
      "get 398 of 600 = /content/BasicsMusicalInstrumClassifi/audio/london_phill_dataset_multi/flute/flute_Gs6_1_forte_normal.mp3\n",
      "get 399 of 600 = /content/BasicsMusicalInstrumClassifi/audio/london_phill_dataset_multi/flute/flute_A4_1_mezzo-piano_normal.mp3\n",
      "get 400 of 600 = /content/BasicsMusicalInstrumClassifi/audio/london_phill_dataset_multi/flute/flute_Gs5_05_pianissimo_normal.mp3\n",
      "get 401 of 600 = /content/BasicsMusicalInstrumClassifi/audio/london_phill_dataset_multi/trumpet/trumpet_F3_1_pianissimo_normal.mp3\n",
      "get 402 of 600 = /content/BasicsMusicalInstrumClassifi/audio/london_phill_dataset_multi/trumpet/trumpet_G3_05_pianissimo_normal.mp3\n",
      "get 403 of 600 = /content/BasicsMusicalInstrumClassifi/audio/london_phill_dataset_multi/trumpet/trumpet_Ds6_05_forte_normal.mp3\n",
      "get 404 of 600 = /content/BasicsMusicalInstrumClassifi/audio/london_phill_dataset_multi/trumpet/trumpet_Gs3_15_pianissimo_normal.mp3\n",
      "get 405 of 600 = /content/BasicsMusicalInstrumClassifi/audio/london_phill_dataset_multi/trumpet/trumpet_Cs4_15_pianissimo_normal.mp3\n",
      "get 406 of 600 = /content/BasicsMusicalInstrumClassifi/audio/london_phill_dataset_multi/trumpet/trumpet_F4_05_pianissimo_normal.mp3\n",
      "get 407 of 600 = /content/BasicsMusicalInstrumClassifi/audio/london_phill_dataset_multi/trumpet/trumpet_G5_1_mezzo-forte_normal.mp3\n",
      "get 408 of 600 = /content/BasicsMusicalInstrumClassifi/audio/london_phill_dataset_multi/trumpet/trumpet_D4_025_pianissimo_normal.mp3\n",
      "get 409 of 600 = /content/BasicsMusicalInstrumClassifi/audio/london_phill_dataset_multi/trumpet/trumpet_G5_025_mezzo-forte_normal.mp3\n",
      "get 410 of 600 = /content/BasicsMusicalInstrumClassifi/audio/london_phill_dataset_multi/trumpet/trumpet_A5_05_mezzo-forte_normal.mp3\n",
      "get 411 of 600 = /content/BasicsMusicalInstrumClassifi/audio/london_phill_dataset_multi/trumpet/trumpet_A3_15_pianissimo_normal.mp3\n",
      "get 412 of 600 = /content/BasicsMusicalInstrumClassifi/audio/london_phill_dataset_multi/trumpet/trumpet_E3_025_pianissimo_normal.mp3\n",
      "get 413 of 600 = /content/BasicsMusicalInstrumClassifi/audio/london_phill_dataset_multi/trumpet/trumpet_E4_15_pianissimo_normal.mp3\n",
      "get 414 of 600 = /content/BasicsMusicalInstrumClassifi/audio/london_phill_dataset_multi/trumpet/trumpet_G5_15_mezzo-forte_normal.mp3\n",
      "get 415 of 600 = /content/BasicsMusicalInstrumClassifi/audio/london_phill_dataset_multi/trumpet/trumpet_B3_1_pianissimo_normal.mp3\n",
      "get 416 of 600 = /content/BasicsMusicalInstrumClassifi/audio/london_phill_dataset_multi/trumpet/trumpet_Gs3_1_forte_normal.mp3\n",
      "get 417 of 600 = /content/BasicsMusicalInstrumClassifi/audio/london_phill_dataset_multi/trumpet/trumpet_Gs5_05_forte_normal.mp3\n",
      "get 418 of 600 = /content/BasicsMusicalInstrumClassifi/audio/london_phill_dataset_multi/trumpet/trumpet_E3_15_pianissimo_normal.mp3\n",
      "get 419 of 600 = /content/BasicsMusicalInstrumClassifi/audio/london_phill_dataset_multi/trumpet/trumpet_F3_05_forte_normal.mp3\n",
      "get 420 of 600 = /content/BasicsMusicalInstrumClassifi/audio/london_phill_dataset_multi/trumpet/trumpet_G3_15_pianissimo_normal.mp3\n",
      "get 421 of 600 = /content/BasicsMusicalInstrumClassifi/audio/london_phill_dataset_multi/trumpet/trumpet_C6_025_forte_normal.mp3\n",
      "get 422 of 600 = /content/BasicsMusicalInstrumClassifi/audio/london_phill_dataset_multi/trumpet/trumpet_Cs4_05_forte_normal.mp3\n",
      "get 423 of 600 = /content/BasicsMusicalInstrumClassifi/audio/london_phill_dataset_multi/trumpet/trumpet_F3_15_pianissimo_normal.mp3\n",
      "get 424 of 600 = /content/BasicsMusicalInstrumClassifi/audio/london_phill_dataset_multi/trumpet/trumpet_C6_05_forte_normal.mp3\n",
      "get 425 of 600 = /content/BasicsMusicalInstrumClassifi/audio/london_phill_dataset_multi/trumpet/trumpet_B4_025_forte_normal.mp3\n",
      "get 426 of 600 = /content/BasicsMusicalInstrumClassifi/audio/london_phill_dataset_multi/trumpet/trumpet_D6_05_forte_normal.mp3\n",
      "get 427 of 600 = /content/BasicsMusicalInstrumClassifi/audio/london_phill_dataset_multi/trumpet/trumpet_B3_05_forte_normal.mp3\n",
      "get 428 of 600 = /content/BasicsMusicalInstrumClassifi/audio/london_phill_dataset_multi/trumpet/trumpet_F3_025_pianissimo_normal.mp3\n",
      "get 429 of 600 = /content/BasicsMusicalInstrumClassifi/audio/london_phill_dataset_multi/trumpet/trumpet_Cs4_1_pianissimo_normal.mp3\n",
      "get 430 of 600 = /content/BasicsMusicalInstrumClassifi/audio/london_phill_dataset_multi/trumpet/trumpet_E3_1_pianissimo_normal.mp3\n",
      "get 431 of 600 = /content/BasicsMusicalInstrumClassifi/audio/london_phill_dataset_multi/trumpet/trumpet_Ds4_025_pianissimo_normal.mp3\n",
      "get 432 of 600 = /content/BasicsMusicalInstrumClassifi/audio/london_phill_dataset_multi/trumpet/trumpet_D4_15_pianissimo_normal.mp3\n",
      "get 433 of 600 = /content/BasicsMusicalInstrumClassifi/audio/london_phill_dataset_multi/trumpet/trumpet_Ds6_025_forte_normal.mp3\n",
      "get 434 of 600 = /content/BasicsMusicalInstrumClassifi/audio/london_phill_dataset_multi/trumpet/trumpet_As3_15_pianissimo_normal.mp3\n",
      "get 435 of 600 = /content/BasicsMusicalInstrumClassifi/audio/london_phill_dataset_multi/trumpet/trumpet_Ds4_05_forte_normal.mp3\n",
      "get 436 of 600 = /content/BasicsMusicalInstrumClassifi/audio/london_phill_dataset_multi/trumpet/trumpet_D5_05_forte_normal.mp3\n",
      "get 437 of 600 = /content/BasicsMusicalInstrumClassifi/audio/london_phill_dataset_multi/trumpet/trumpet_Ds5_05_forte_normal.mp3\n",
      "get 438 of 600 = /content/BasicsMusicalInstrumClassifi/audio/london_phill_dataset_multi/trumpet/trumpet_D4_025_forte_normal.mp3\n",
      "get 439 of 600 = /content/BasicsMusicalInstrumClassifi/audio/london_phill_dataset_multi/trumpet/trumpet_C4_05_forte_normal.mp3\n",
      "get 440 of 600 = /content/BasicsMusicalInstrumClassifi/audio/london_phill_dataset_multi/trumpet/trumpet_F3_1_forte_normal.mp3\n",
      "get 441 of 600 = /content/BasicsMusicalInstrumClassifi/audio/london_phill_dataset_multi/trumpet/trumpet_A3_1_pianissimo_normal.mp3\n",
      "get 442 of 600 = /content/BasicsMusicalInstrumClassifi/audio/london_phill_dataset_multi/trumpet/trumpet_G3_025_pianissimo_normal.mp3\n",
      "get 443 of 600 = /content/BasicsMusicalInstrumClassifi/audio/london_phill_dataset_multi/trumpet/trumpet_As3_05_pianissimo_normal.mp3\n",
      "get 444 of 600 = /content/BasicsMusicalInstrumClassifi/audio/london_phill_dataset_multi/trumpet/trumpet_C4_15_pianissimo_normal.mp3\n",
      "get 445 of 600 = /content/BasicsMusicalInstrumClassifi/audio/london_phill_dataset_multi/trumpet/trumpet_As3_025_pianissimo_normal.mp3\n",
      "get 446 of 600 = /content/BasicsMusicalInstrumClassifi/audio/london_phill_dataset_multi/trumpet/trumpet_Ds4_1_pianissimo_normal.mp3\n",
      "get 447 of 600 = /content/BasicsMusicalInstrumClassifi/audio/london_phill_dataset_multi/trumpet/trumpet_Gs5_025_forte_normal.mp3\n",
      "get 448 of 600 = /content/BasicsMusicalInstrumClassifi/audio/london_phill_dataset_multi/trumpet/trumpet_As4_025_forte_normal.mp3\n",
      "get 449 of 600 = /content/BasicsMusicalInstrumClassifi/audio/london_phill_dataset_multi/trumpet/trumpet_G3_1_pianissimo_normal.mp3\n",
      "get 450 of 600 = /content/BasicsMusicalInstrumClassifi/audio/london_phill_dataset_multi/trumpet/trumpet_B3_025_pianissimo_normal.mp3\n",
      "get 451 of 600 = /content/BasicsMusicalInstrumClassifi/audio/london_phill_dataset_multi/trumpet/trumpet_E6_025_forte_normal.mp3\n",
      "get 452 of 600 = /content/BasicsMusicalInstrumClassifi/audio/london_phill_dataset_multi/trumpet/trumpet_Gs3_025_pianissimo_normal.mp3\n",
      "get 453 of 600 = /content/BasicsMusicalInstrumClassifi/audio/london_phill_dataset_multi/trumpet/trumpet_B3_05_pianissimo_normal.mp3\n",
      "get 454 of 600 = /content/BasicsMusicalInstrumClassifi/audio/london_phill_dataset_multi/trumpet/trumpet_Gs5_025_mezzo-forte_normal.mp3\n",
      "get 455 of 600 = /content/BasicsMusicalInstrumClassifi/audio/london_phill_dataset_multi/trumpet/trumpet_As5_05_mezzo-forte_normal.mp3\n",
      "get 456 of 600 = /content/BasicsMusicalInstrumClassifi/audio/london_phill_dataset_multi/trumpet/trumpet_Cs4_025_pianissimo_normal.mp3\n",
      "get 457 of 600 = /content/BasicsMusicalInstrumClassifi/audio/london_phill_dataset_multi/trumpet/trumpet_Ds4_15_pianissimo_normal.mp3\n",
      "get 458 of 600 = /content/BasicsMusicalInstrumClassifi/audio/london_phill_dataset_multi/trumpet/trumpet_As3_1_pianissimo_normal.mp3\n",
      "get 459 of 600 = /content/BasicsMusicalInstrumClassifi/audio/london_phill_dataset_multi/trumpet/trumpet_A3_05_forte_normal.mp3\n",
      "get 460 of 600 = /content/BasicsMusicalInstrumClassifi/audio/london_phill_dataset_multi/trumpet/trumpet_Cs4_05_pianissimo_normal.mp3\n",
      "get 461 of 600 = /content/BasicsMusicalInstrumClassifi/audio/london_phill_dataset_multi/trumpet/trumpet_E3_1_forte_normal.mp3\n",
      "get 462 of 600 = /content/BasicsMusicalInstrumClassifi/audio/london_phill_dataset_multi/trumpet/trumpet_Gs4_05_forte_normal.mp3\n",
      "get 463 of 600 = /content/BasicsMusicalInstrumClassifi/audio/london_phill_dataset_multi/trumpet/trumpet_Gs3_05_pianissimo_normal.mp3\n",
      "get 464 of 600 = /content/BasicsMusicalInstrumClassifi/audio/london_phill_dataset_multi/trumpet/trumpet_E4_05_pianissimo_normal.mp3\n",
      "get 465 of 600 = /content/BasicsMusicalInstrumClassifi/audio/london_phill_dataset_multi/trumpet/trumpet_B5_025_forte_normal.mp3\n",
      "get 466 of 600 = /content/BasicsMusicalInstrumClassifi/audio/london_phill_dataset_multi/trumpet/trumpet_Ds4_05_pianissimo_normal.mp3\n",
      "get 467 of 600 = /content/BasicsMusicalInstrumClassifi/audio/london_phill_dataset_multi/trumpet/trumpet_Cs6_025_forte_normal.mp3\n",
      "get 468 of 600 = /content/BasicsMusicalInstrumClassifi/audio/london_phill_dataset_multi/trumpet/trumpet_F3_05_pianissimo_normal.mp3\n",
      "get 469 of 600 = /content/BasicsMusicalInstrumClassifi/audio/london_phill_dataset_multi/trumpet/trumpet_Gs3_1_pianissimo_normal.mp3\n",
      "get 470 of 600 = /content/BasicsMusicalInstrumClassifi/audio/london_phill_dataset_multi/trumpet/trumpet_A3_025_pianissimo_normal.mp3\n",
      "get 471 of 600 = /content/BasicsMusicalInstrumClassifi/audio/london_phill_dataset_multi/trumpet/trumpet_B3_15_pianissimo_normal.mp3\n",
      "get 472 of 600 = /content/BasicsMusicalInstrumClassifi/audio/london_phill_dataset_multi/trumpet/trumpet_E6_1_forte_normal.mp3\n",
      "get 473 of 600 = /content/BasicsMusicalInstrumClassifi/audio/london_phill_dataset_multi/trumpet/trumpet_As5_05_forte_normal.mp3\n",
      "get 474 of 600 = /content/BasicsMusicalInstrumClassifi/audio/london_phill_dataset_multi/trumpet/trumpet_E3_05_forte_normal.mp3\n",
      "get 475 of 600 = /content/BasicsMusicalInstrumClassifi/audio/london_phill_dataset_multi/trumpet/trumpet_Gs3_05_forte_normal.mp3\n",
      "get 476 of 600 = /content/BasicsMusicalInstrumClassifi/audio/london_phill_dataset_multi/trumpet/trumpet_A5_025_forte_normal.mp3\n",
      "get 477 of 600 = /content/BasicsMusicalInstrumClassifi/audio/london_phill_dataset_multi/trumpet/trumpet_D4_05_pianissimo_normal.mp3\n",
      "get 478 of 600 = /content/BasicsMusicalInstrumClassifi/audio/london_phill_dataset_multi/trumpet/trumpet_Gs5_05_mezzo-forte_normal.mp3\n",
      "get 479 of 600 = /content/BasicsMusicalInstrumClassifi/audio/london_phill_dataset_multi/trumpet/trumpet_E3_05_pianissimo_normal.mp3\n",
      "get 480 of 600 = /content/BasicsMusicalInstrumClassifi/audio/london_phill_dataset_multi/trumpet/trumpet_D6_025_forte_normal.mp3\n",
      "get 481 of 600 = /content/BasicsMusicalInstrumClassifi/audio/london_phill_dataset_multi/trumpet/trumpet_A4_05_forte_normal.mp3\n",
      "get 482 of 600 = /content/BasicsMusicalInstrumClassifi/audio/london_phill_dataset_multi/trumpet/trumpet_D4_05_forte_normal.mp3\n",
      "get 483 of 600 = /content/BasicsMusicalInstrumClassifi/audio/london_phill_dataset_multi/trumpet/trumpet_Gs4_025_forte_normal.mp3\n",
      "get 484 of 600 = /content/BasicsMusicalInstrumClassifi/audio/london_phill_dataset_multi/trumpet/trumpet_A4_025_forte_normal.mp3\n",
      "get 485 of 600 = /content/BasicsMusicalInstrumClassifi/audio/london_phill_dataset_multi/trumpet/trumpet_C4_1_pianissimo_normal.mp3\n",
      "get 486 of 600 = /content/BasicsMusicalInstrumClassifi/audio/london_phill_dataset_multi/trumpet/trumpet_C4_025_forte_normal.mp3\n",
      "get 487 of 600 = /content/BasicsMusicalInstrumClassifi/audio/london_phill_dataset_multi/trumpet/trumpet_As3_025_forte_normal.mp3\n",
      "get 488 of 600 = /content/BasicsMusicalInstrumClassifi/audio/london_phill_dataset_multi/trumpet/trumpet_B5_025_mezzo-forte_normal.mp3\n",
      "get 489 of 600 = /content/BasicsMusicalInstrumClassifi/audio/london_phill_dataset_multi/trumpet/trumpet_G5_05_mezzo-forte_normal.mp3\n",
      "get 490 of 600 = /content/BasicsMusicalInstrumClassifi/audio/london_phill_dataset_multi/trumpet/trumpet_As5_025_forte_normal.mp3\n",
      "get 491 of 600 = /content/BasicsMusicalInstrumClassifi/audio/london_phill_dataset_multi/trumpet/trumpet_C4_025_pianissimo_normal.mp3\n",
      "get 492 of 600 = /content/BasicsMusicalInstrumClassifi/audio/london_phill_dataset_multi/trumpet/trumpet_C4_05_pianissimo_normal.mp3\n",
      "get 493 of 600 = /content/BasicsMusicalInstrumClassifi/audio/london_phill_dataset_multi/trumpet/trumpet_E4_025_pianissimo_normal.mp3\n",
      "get 494 of 600 = /content/BasicsMusicalInstrumClassifi/audio/london_phill_dataset_multi/trumpet/trumpet_F3_025_forte_normal.mp3\n",
      "get 495 of 600 = /content/BasicsMusicalInstrumClassifi/audio/london_phill_dataset_multi/trumpet/trumpet_A5_025_mezzo-forte_normal.mp3\n",
      "get 496 of 600 = /content/BasicsMusicalInstrumClassifi/audio/london_phill_dataset_multi/trumpet/trumpet_E4_1_pianissimo_normal.mp3\n",
      "get 497 of 600 = /content/BasicsMusicalInstrumClassifi/audio/london_phill_dataset_multi/trumpet/trumpet_B3_025_forte_normal.mp3\n",
      "get 498 of 600 = /content/BasicsMusicalInstrumClassifi/audio/london_phill_dataset_multi/trumpet/trumpet_F4_025_pianissimo_normal.mp3\n",
      "get 499 of 600 = /content/BasicsMusicalInstrumClassifi/audio/london_phill_dataset_multi/trumpet/trumpet_A3_05_pianissimo_normal.mp3\n",
      "get 500 of 600 = /content/BasicsMusicalInstrumClassifi/audio/london_phill_dataset_multi/trumpet/trumpet_D4_1_pianissimo_normal.mp3\n",
      "get 501 of 600 = /content/BasicsMusicalInstrumClassifi/audio/london_phill_dataset_multi/sax/saxophone_A3_1_pianissimo_normal.mp3\n",
      "get 502 of 600 = /content/BasicsMusicalInstrumClassifi/audio/london_phill_dataset_multi/sax/saxophone_A5_05_fortissimo_normal.mp3\n",
      "get 503 of 600 = /content/BasicsMusicalInstrumClassifi/audio/london_phill_dataset_multi/sax/saxophone_A5_1_forte_normal.mp3\n",
      "get 504 of 600 = /content/BasicsMusicalInstrumClassifi/audio/london_phill_dataset_multi/sax/saxophone_Gs5_15_fortissimo_normal.mp3\n",
      "get 505 of 600 = /content/BasicsMusicalInstrumClassifi/audio/london_phill_dataset_multi/sax/saxophone_Gs3_025_fortissimo_normal.mp3\n",
      "get 506 of 600 = /content/BasicsMusicalInstrumClassifi/audio/london_phill_dataset_multi/sax/saxophone_A4_1_forte_normal.mp3\n",
      "get 507 of 600 = /content/BasicsMusicalInstrumClassifi/audio/london_phill_dataset_multi/sax/saxophone_A4_1_piano_normal.mp3\n",
      "get 508 of 600 = /content/BasicsMusicalInstrumClassifi/audio/london_phill_dataset_multi/sax/saxophone_Gs4_1_forte_normal.mp3\n",
      "get 509 of 600 = /content/BasicsMusicalInstrumClassifi/audio/london_phill_dataset_multi/sax/saxophone_Ds4_05_piano_normal.mp3\n",
      "get 510 of 600 = /content/BasicsMusicalInstrumClassifi/audio/london_phill_dataset_multi/sax/saxophone_Gs4_1_fortissimo_normal.mp3\n",
      "get 511 of 600 = /content/BasicsMusicalInstrumClassifi/audio/london_phill_dataset_multi/sax/saxophone_Gs4_1_piano_normal.mp3\n",
      "get 512 of 600 = /content/BasicsMusicalInstrumClassifi/audio/london_phill_dataset_multi/sax/saxophone_A5_05_pianissimo_normal.mp3\n",
      "get 513 of 600 = /content/BasicsMusicalInstrumClassifi/audio/london_phill_dataset_multi/sax/saxophone_Ds4_025_fortissimo_normal.mp3\n",
      "get 514 of 600 = /content/BasicsMusicalInstrumClassifi/audio/london_phill_dataset_multi/sax/saxophone_Gs3_05_fortissimo_normal.mp3\n",
      "get 515 of 600 = /content/BasicsMusicalInstrumClassifi/audio/london_phill_dataset_multi/sax/saxophone_A3_15_pianissimo_normal.mp3\n",
      "get 516 of 600 = /content/BasicsMusicalInstrumClassifi/audio/london_phill_dataset_multi/sax/saxophone_Gs4_025_mezzo-forte_normal.mp3\n",
      "get 517 of 600 = /content/BasicsMusicalInstrumClassifi/audio/london_phill_dataset_multi/sax/saxophone_A4_15_piano_normal.mp3\n",
      "get 518 of 600 = /content/BasicsMusicalInstrumClassifi/audio/london_phill_dataset_multi/sax/saxophone_Gs4_15_piano_normal.mp3\n",
      "get 519 of 600 = /content/BasicsMusicalInstrumClassifi/audio/london_phill_dataset_multi/sax/saxophone_Gs3_15_fortissimo_normal.mp3\n",
      "get 520 of 600 = /content/BasicsMusicalInstrumClassifi/audio/london_phill_dataset_multi/sax/saxophone_A5_1_fortissimo_normal.mp3\n",
      "get 521 of 600 = /content/BasicsMusicalInstrumClassifi/audio/london_phill_dataset_multi/sax/saxophone_A4_15_forte_normal.mp3\n",
      "get 522 of 600 = /content/BasicsMusicalInstrumClassifi/audio/london_phill_dataset_multi/sax/saxophone_Gs4_1_pianissimo_normal.mp3\n",
      "get 523 of 600 = /content/BasicsMusicalInstrumClassifi/audio/london_phill_dataset_multi/sax/saxophone_Ds5_1_forte_major-trill.mp3\n",
      "get 524 of 600 = /content/BasicsMusicalInstrumClassifi/audio/london_phill_dataset_multi/sax/saxophone_A3_15_forte_normal.mp3\n",
      "get 525 of 600 = /content/BasicsMusicalInstrumClassifi/audio/london_phill_dataset_multi/sax/saxophone_Ds5_1_forte_minor-trill.mp3\n",
      "get 526 of 600 = /content/BasicsMusicalInstrumClassifi/audio/london_phill_dataset_multi/sax/saxophone_A4_025_piano_normal.mp3\n",
      "get 527 of 600 = /content/BasicsMusicalInstrumClassifi/audio/london_phill_dataset_multi/sax/saxophone_A4_05_piano_normal.mp3\n",
      "get 528 of 600 = /content/BasicsMusicalInstrumClassifi/audio/london_phill_dataset_multi/sax/saxophone_A5_15_forte_normal.mp3\n",
      "get 529 of 600 = /content/BasicsMusicalInstrumClassifi/audio/london_phill_dataset_multi/sax/saxophone_Gs3_1_pianissimo_normal.mp3\n",
      "get 530 of 600 = /content/BasicsMusicalInstrumClassifi/audio/london_phill_dataset_multi/sax/saxophone_Gs5_15_pianissimo_normal.mp3\n",
      "get 531 of 600 = /content/BasicsMusicalInstrumClassifi/audio/london_phill_dataset_multi/sax/saxophone_Gs5_15_forte_normal.mp3\n",
      "get 532 of 600 = /content/BasicsMusicalInstrumClassifi/audio/london_phill_dataset_multi/sax/saxophone_A3_025_forte_normal.mp3\n",
      "get 533 of 600 = /content/BasicsMusicalInstrumClassifi/audio/london_phill_dataset_multi/sax/saxophone_Gs5_05_fortissimo_normal.mp3\n",
      "get 534 of 600 = /content/BasicsMusicalInstrumClassifi/audio/london_phill_dataset_multi/sax/saxophone_Gs5_05_piano_normal.mp3\n",
      "get 535 of 600 = /content/BasicsMusicalInstrumClassifi/audio/london_phill_dataset_multi/sax/saxophone_A4_1_mezzo-forte_normal.mp3\n",
      "get 536 of 600 = /content/BasicsMusicalInstrumClassifi/audio/london_phill_dataset_multi/sax/saxophone_A5_1_piano_normal.mp3\n",
      "get 537 of 600 = /content/BasicsMusicalInstrumClassifi/audio/london_phill_dataset_multi/sax/saxophone_Gs4_15_fortissimo_normal.mp3\n",
      "get 538 of 600 = /content/BasicsMusicalInstrumClassifi/audio/london_phill_dataset_multi/sax/saxophone_A3_05_forte_normal.mp3\n",
      "get 539 of 600 = /content/BasicsMusicalInstrumClassifi/audio/london_phill_dataset_multi/sax/saxophone_A3_025_mezzo-piano_normal.mp3\n",
      "get 540 of 600 = /content/BasicsMusicalInstrumClassifi/audio/london_phill_dataset_multi/sax/saxophone_Gs5_05_pianissimo_normal.mp3\n",
      "get 541 of 600 = /content/BasicsMusicalInstrumClassifi/audio/london_phill_dataset_multi/sax/saxophone_A3_1_fortissimo_normal.mp3\n",
      "get 542 of 600 = /content/BasicsMusicalInstrumClassifi/audio/london_phill_dataset_multi/sax/saxophone_Gs4_15_pianissimo_normal.mp3\n",
      "get 543 of 600 = /content/BasicsMusicalInstrumClassifi/audio/london_phill_dataset_multi/sax/saxophone_Gs4_15_forte_normal.mp3\n",
      "get 544 of 600 = /content/BasicsMusicalInstrumClassifi/audio/london_phill_dataset_multi/sax/saxophone_A3_1_forte_normal.mp3\n",
      "get 545 of 600 = /content/BasicsMusicalInstrumClassifi/audio/london_phill_dataset_multi/sax/saxophone_Gs3_1_piano_normal.mp3\n",
      "get 546 of 600 = /content/BasicsMusicalInstrumClassifi/audio/london_phill_dataset_multi/sax/saxophone_Gs5_15_piano_normal.mp3\n",
      "get 547 of 600 = /content/BasicsMusicalInstrumClassifi/audio/london_phill_dataset_multi/sax/saxophone_A3_025_pianissimo_normal.mp3\n",
      "get 548 of 600 = /content/BasicsMusicalInstrumClassifi/audio/london_phill_dataset_multi/sax/saxophone_A5_15_fortissimo_normal.mp3\n",
      "get 549 of 600 = /content/BasicsMusicalInstrumClassifi/audio/london_phill_dataset_multi/sax/saxophone_A4_1_fortissimo_normal.mp3\n",
      "get 550 of 600 = /content/BasicsMusicalInstrumClassifi/audio/london_phill_dataset_multi/sax/saxophone_A3_05_pianissimo_normal.mp3\n",
      "get 551 of 600 = /content/BasicsMusicalInstrumClassifi/audio/london_phill_dataset_multi/sax/saxophone_Gs4_025_forte_normal.mp3\n",
      "get 552 of 600 = /content/BasicsMusicalInstrumClassifi/audio/london_phill_dataset_multi/sax/saxophone_Ds4_05_fortissimo_normal.mp3\n",
      "get 553 of 600 = /content/BasicsMusicalInstrumClassifi/audio/london_phill_dataset_multi/sax/saxophone_A4_15_fortissimo_normal.mp3\n",
      "get 554 of 600 = /content/BasicsMusicalInstrumClassifi/audio/london_phill_dataset_multi/sax/saxophone_Ds4_025_forte_normal.mp3\n",
      "get 555 of 600 = /content/BasicsMusicalInstrumClassifi/audio/london_phill_dataset_multi/sax/saxophone_Gs4_025_fortissimo_normal.mp3\n",
      "get 556 of 600 = /content/BasicsMusicalInstrumClassifi/audio/london_phill_dataset_multi/sax/saxophone_A5_1_pianissimo_normal.mp3\n",
      "get 557 of 600 = /content/BasicsMusicalInstrumClassifi/audio/london_phill_dataset_multi/sax/saxophone_A4_05_forte_normal.mp3\n",
      "get 558 of 600 = /content/BasicsMusicalInstrumClassifi/audio/london_phill_dataset_multi/sax/saxophone_Ds4_025_mezzo-forte_normal.mp3\n",
      "get 559 of 600 = /content/BasicsMusicalInstrumClassifi/audio/london_phill_dataset_multi/sax/saxophone_A4_025_fortissimo_normal.mp3\n",
      "get 560 of 600 = /content/BasicsMusicalInstrumClassifi/audio/london_phill_dataset_multi/sax/saxophone_Gs4_05_mezzo-forte_normal.mp3\n",
      "get 561 of 600 = /content/BasicsMusicalInstrumClassifi/audio/london_phill_dataset_multi/sax/saxophone_Ds4_025_pianissimo_normal.mp3\n",
      "get 562 of 600 = /content/BasicsMusicalInstrumClassifi/audio/london_phill_dataset_multi/sax/saxophone_Gs3_025_forte_normal.mp3\n",
      "get 563 of 600 = /content/BasicsMusicalInstrumClassifi/audio/london_phill_dataset_multi/sax/saxophone_Gs4_05_pianissimo_normal.mp3\n",
      "get 564 of 600 = /content/BasicsMusicalInstrumClassifi/audio/london_phill_dataset_multi/sax/saxophone_Gs3_05_forte_normal.mp3\n",
      "get 565 of 600 = /content/BasicsMusicalInstrumClassifi/audio/london_phill_dataset_multi/sax/saxophone_A3_05_piano_normal.mp3\n",
      "get 566 of 600 = /content/BasicsMusicalInstrumClassifi/audio/london_phill_dataset_multi/sax/saxophone_A3_15_fortissimo_normal.mp3\n",
      "get 567 of 600 = /content/BasicsMusicalInstrumClassifi/audio/london_phill_dataset_multi/sax/saxophone_A5_15_pianissimo_normal.mp3\n",
      "get 568 of 600 = /content/BasicsMusicalInstrumClassifi/audio/london_phill_dataset_multi/sax/saxophone_A3_025_fortissimo_normal.mp3\n",
      "get 569 of 600 = /content/BasicsMusicalInstrumClassifi/audio/london_phill_dataset_multi/sax/saxophone_A4_025_forte_normal.mp3\n",
      "get 570 of 600 = /content/BasicsMusicalInstrumClassifi/audio/london_phill_dataset_multi/sax/saxophone_A3_1_piano_normal.mp3\n",
      "get 571 of 600 = /content/BasicsMusicalInstrumClassifi/audio/london_phill_dataset_multi/sax/saxophone_Gs4_05_forte_normal.mp3\n",
      "get 572 of 600 = /content/BasicsMusicalInstrumClassifi/audio/london_phill_dataset_multi/sax/saxophone_A3_05_fortissimo_normal.mp3\n",
      "get 573 of 600 = /content/BasicsMusicalInstrumClassifi/audio/london_phill_dataset_multi/sax/saxophone_Gs4_05_fortissimo_normal.mp3\n",
      "get 574 of 600 = /content/BasicsMusicalInstrumClassifi/audio/london_phill_dataset_multi/sax/saxophone_Gs5_05_forte_normal.mp3\n",
      "get 575 of 600 = /content/BasicsMusicalInstrumClassifi/audio/london_phill_dataset_multi/sax/saxophone_Gs3_05_piano_normal.mp3\n",
      "get 576 of 600 = /content/BasicsMusicalInstrumClassifi/audio/london_phill_dataset_multi/sax/saxophone_Ds4_05_mezzo-forte_slap-tongue.mp3\n",
      "get 577 of 600 = /content/BasicsMusicalInstrumClassifi/audio/london_phill_dataset_multi/sax/saxophone_Gs5_025_piano_normal.mp3\n",
      "get 578 of 600 = /content/BasicsMusicalInstrumClassifi/audio/london_phill_dataset_multi/sax/saxophone_A3_05_mezzo-piano_normal.mp3\n",
      "get 579 of 600 = /content/BasicsMusicalInstrumClassifi/audio/london_phill_dataset_multi/sax/saxophone_Gs4_05_piano_normal.mp3\n",
      "get 580 of 600 = /content/BasicsMusicalInstrumClassifi/audio/london_phill_dataset_multi/sax/saxophone_Gs3_05_mezzo-piano_normal.mp3\n",
      "get 581 of 600 = /content/BasicsMusicalInstrumClassifi/audio/london_phill_dataset_multi/sax/saxophone_A4_05_pianissimo_normal.mp3\n",
      "get 582 of 600 = /content/BasicsMusicalInstrumClassifi/audio/london_phill_dataset_multi/sax/saxophone_Ds4_15_fortissimo_normal.mp3\n",
      "get 583 of 600 = /content/BasicsMusicalInstrumClassifi/audio/london_phill_dataset_multi/sax/saxophone_Gs5_1_piano_normal.mp3\n",
      "get 584 of 600 = /content/BasicsMusicalInstrumClassifi/audio/london_phill_dataset_multi/sax/saxophone_A5_05_piano_normal.mp3\n",
      "get 585 of 600 = /content/BasicsMusicalInstrumClassifi/audio/london_phill_dataset_multi/sax/saxophone_Ds4_05_pianissimo_subtone.mp3\n",
      "get 586 of 600 = /content/BasicsMusicalInstrumClassifi/audio/london_phill_dataset_multi/sax/saxophone_Gs3_15_pianissimo_normal.mp3\n",
      "get 587 of 600 = /content/BasicsMusicalInstrumClassifi/audio/london_phill_dataset_multi/sax/saxophone_Gs3_05_pianissimo_normal.mp3\n",
      "get 588 of 600 = /content/BasicsMusicalInstrumClassifi/audio/london_phill_dataset_multi/sax/saxophone_A5_05_forte_normal.mp3\n",
      "get 589 of 600 = /content/BasicsMusicalInstrumClassifi/audio/london_phill_dataset_multi/sax/saxophone_A4_05_fortissimo_normal.mp3\n",
      "get 590 of 600 = /content/BasicsMusicalInstrumClassifi/audio/london_phill_dataset_multi/sax/saxophone_A4_1_pianissimo_normal.mp3\n",
      "get 591 of 600 = /content/BasicsMusicalInstrumClassifi/audio/london_phill_dataset_multi/sax/saxophone_Ds4_05_pianissimo_normal.mp3\n",
      "get 592 of 600 = /content/BasicsMusicalInstrumClassifi/audio/london_phill_dataset_multi/sax/saxophone_Gs5_1_fortissimo_normal.mp3\n",
      "get 593 of 600 = /content/BasicsMusicalInstrumClassifi/audio/london_phill_dataset_multi/sax/saxophone_Gs4_025_pianissimo_normal.mp3\n",
      "get 594 of 600 = /content/BasicsMusicalInstrumClassifi/audio/london_phill_dataset_multi/sax/saxophone_Gs4_025_piano_normal.mp3\n",
      "get 595 of 600 = /content/BasicsMusicalInstrumClassifi/audio/london_phill_dataset_multi/sax/saxophone_Gs5_025_fortissimo_normal.mp3\n",
      "get 596 of 600 = /content/BasicsMusicalInstrumClassifi/audio/london_phill_dataset_multi/sax/saxophone_Gs5_1_forte_normal.mp3\n",
      "get 597 of 600 = /content/BasicsMusicalInstrumClassifi/audio/london_phill_dataset_multi/sax/saxophone_Gs5_1_pianissimo_normal.mp3\n",
      "get 598 of 600 = /content/BasicsMusicalInstrumClassifi/audio/london_phill_dataset_multi/sax/saxophone_Gs5_025_forte_normal.mp3\n",
      "get 599 of 600 = /content/BasicsMusicalInstrumClassifi/audio/london_phill_dataset_multi/sax/saxophone_Gs3_025_mezzo-piano_normal.mp3\n",
      "get 600 of 600 = /content/BasicsMusicalInstrumClassifi/audio/london_phill_dataset_multi/sax/saxophone_Ds4_05_mezzo-forte_normal.mp3\n",
      "Calculated 600 feature vectors\n"
     ]
    }
   ],
   "source": [
    "# Load audio files, calculate features and create feature vectors\n",
    "feature_vectors = []\n",
    "sound_paths = []\n",
    "for i,f in enumerate(files):\n",
    "    print (\"get %d of %d = %s\"%(i+1, len(files), f))\n",
    "    try:\n",
    "        y, sr = librosa.load(f, sr=fs)\n",
    "        y/=y.max() #Normalize\n",
    "        if len(y) < 2:\n",
    "            print(\"Error loading %s\" % f)\n",
    "            continue\n",
    "        feat = get_features(y, sr)\n",
    "        feature_vectors.append(feat)\n",
    "        sound_paths.append(f)\n",
    "    except Exception as e:\n",
    "        print(\"Error loading %s. Error: %s\" % (f,e))\n",
    "        \n",
    "print(\"Calculated %d feature vectors\"%len(feature_vectors))"
   ]
  },
  {
   "cell_type": "code",
   "execution_count": 10,
   "metadata": {
    "colab": {
     "base_uri": "https://localhost:8080/"
    },
    "id": "al1aFRwIjFcn",
    "outputId": "7813e87a-84cf-4458-ae4e-274b0d360aa5"
   },
   "outputs": [
    {
     "name": "stdout",
     "output_type": "stream",
     "text": [
      "Feature vectors shape: (600, 13)\n"
     ]
    }
   ],
   "source": [
    "# Scale features using Standard Scaler\n",
    "scaler = StandardScaler()\n",
    "scaled_feature_vectors = scaler.fit_transform(np.array(feature_vectors))\n",
    "print(\"Feature vectors shape:\",scaled_feature_vectors.shape)"
   ]
  },
  {
   "cell_type": "code",
   "execution_count": 11,
   "metadata": {
    "id": "jD51o2ekjKQl"
   },
   "outputs": [],
   "source": [
    "filename=\"mfcc_feature_vectors.pl\"\n",
    "# Load mfcc features from saved file\n",
    "#with open(filename, \"rb\") as f:\n",
    "#    scaled_feature_vectors = pickle.load( open( filename, \"rb\" ) )\n",
    "\n",
    "# Save feature_vectors for future use\n",
    "with open(filename, \"wb\") as f:\n",
    "    pickle.dump( scaled_feature_vectors, f)"
   ]
  },
  {
   "cell_type": "code",
   "execution_count": 12,
   "metadata": {
    "id": "gn0SnlNljMiI"
   },
   "outputs": [],
   "source": [
    "# Create Train and Test Set\n",
    "splitter = StratifiedShuffleSplit(n_splits=1, test_size=testset_size, random_state=0)\n",
    "splits = splitter.split(scaled_feature_vectors, classes_num)\n",
    "for train_index, test_index in splits:\n",
    "    train_set = scaled_feature_vectors[train_index]\n",
    "    test_set = scaled_feature_vectors[test_index]\n",
    "    train_classes = classes_num[train_index]\n",
    "    test_classes = classes_num[test_index]"
   ]
  },
  {
   "cell_type": "code",
   "execution_count": 13,
   "metadata": {
    "colab": {
     "base_uri": "https://localhost:8080/"
    },
    "id": "NNqz9MShjOu_",
    "outputId": "4ddd06f6-f6fb-4807-8145-18669fc25dc6"
   },
   "outputs": [
    {
     "name": "stdout",
     "output_type": "stream",
     "text": [
      "train_set shape: (450, 13)\n",
      "test_set shape: (150, 13)\n",
      "train_classes shape: (450,)\n",
      "test_classes shape: (150,)\n"
     ]
    }
   ],
   "source": [
    "# Check Set Shapes\n",
    "print(\"train_set shape:\",train_set.shape)\n",
    "print(\"test_set shape:\",test_set.shape)\n",
    "print(\"train_classes shape:\",train_classes.shape)\n",
    "print(\"test_classes shape:\",test_classes.shape)"
   ]
  },
  {
   "cell_type": "code",
   "execution_count": 14,
   "metadata": {
    "id": "q34FZgOdjQM-"
   },
   "outputs": [],
   "source": [
    "svclassifier = SVC(kernel='rbf', C = 10.0, gamma=0.1)"
   ]
  },
  {
   "cell_type": "code",
   "execution_count": 15,
   "metadata": {
    "id": "YycHlITvjaRe"
   },
   "outputs": [],
   "source": [
    "svclassifier.fit(train_set, train_classes);"
   ]
  },
  {
   "cell_type": "code",
   "execution_count": 16,
   "metadata": {
    "colab": {
     "base_uri": "https://localhost:8080/"
    },
    "id": "c24mdK8bjc8T",
    "outputId": "6c59f5b0-1309-4bbb-dbf2-14980d70a261"
   },
   "outputs": [
    {
     "data": {
      "text/plain": [
       "['trainedSVM.joblib']"
      ]
     },
     "execution_count": 16,
     "metadata": {},
     "output_type": "execute_result"
    }
   ],
   "source": [
    "# Save\n",
    "joblib.dump(svclassifier, 'trainedSVM.joblib')\n",
    "#Load\n",
    "#svclassifier = joblib.load('filename.joblib')"
   ]
  },
  {
   "cell_type": "code",
   "execution_count": 17,
   "metadata": {
    "colab": {
     "base_uri": "https://localhost:8080/"
    },
    "id": "Ma5M6_1pj0DT",
    "outputId": "879dadd3-c61f-43f6-9396-af814e19bc34"
   },
   "outputs": [
    {
     "name": "stdout",
     "output_type": "stream",
     "text": [
      "[5 4 4 3 5 2 2 3 1 2 0 1 0 5 4 2 5 0 0 0 0 1 4 3 4 1 3 5 5 2 5 5 4 1 5 5 2\n",
      " 1 2 1 3 1 2 4 2 2 5 2 0 0 4 0 0 3 5 3 0 1 1 0 3 3 5 2 1 4 3 3 1 1 5 5 5 5\n",
      " 1 2 4 0 5 1 4 0 1 2 1 5 4 3 3 1 2 4 0 4 1 3 3 3 4 4 3 1 2 4 0 0 3 0 0 3 4\n",
      " 2 4 5 1 2 1 4 5 0 2 4 3 4 4 3 2 5 5 5 0 2 3 4 0 2 0 5 3 1 2 2 3 4 2 1 5 1\n",
      " 0 0]\n"
     ]
    }
   ],
   "source": [
    "predicted_labels = svclassifier.predict(test_set)\n",
    "print(predicted_labels)"
   ]
  },
  {
   "cell_type": "code",
   "execution_count": 18,
   "metadata": {
    "colab": {
     "base_uri": "https://localhost:8080/"
    },
    "id": "uFnx_RocjlRI",
    "outputId": "67d179b3-b184-4fb3-da13-71d588d24642"
   },
   "outputs": [
    {
     "name": "stdout",
     "output_type": "stream",
     "text": [
      "Recall:  [0.96 1.   1.   0.96 1.   0.96]\n",
      "Precision:  [0.96       1.         1.         1.         1.         0.92307692]\n",
      "F1-Score:  [0.96       1.         1.         0.97959184 1.         0.94117647]\n",
      "Accuracy: 0.98  , 147\n",
      "Number of samples: 150\n"
     ]
    }
   ],
   "source": [
    "# Recall - the ability of the classifier to find all the positive samples\n",
    "print(\"Recall: \", recall_score(test_classes, predicted_labels,average=None))\n",
    "\n",
    "# Precision - The precision is intuitively the ability of the classifier not to label as positive a sample that is negative\n",
    "print(\"Precision: \", precision_score(test_classes, predicted_labels,average=None))\n",
    "\n",
    "# F1-Score - The F1 score can be interpreted as a weighted average of the precision \n",
    "#and recall\n",
    "print(\"F1-Score: \", f1_score(test_classes, predicted_labels, average=None))\n",
    "\n",
    "# Accuracy - the number of correctly classified samples\n",
    "print(\"Accuracy: %.2f  ,\" % accuracy_score(test_classes, predicted_labels,normalize=True), accuracy_score(test_classes, predicted_labels,normalize=False) )\n",
    "print(\"Number of samples:\",test_classes.shape[0])"
   ]
  },
  {
   "cell_type": "code",
   "execution_count": 19,
   "metadata": {
    "colab": {
     "base_uri": "https://localhost:8080/"
    },
    "id": "eeTBwGFIMcaz",
    "outputId": "d9e8465d-75fe-4602-b734-d6d77c1dd1c9"
   },
   "outputs": [
    {
     "name": "stdout",
     "output_type": "stream",
     "text": [
      "              precision    recall  f1-score   support\n",
      "\n",
      "           0       0.96      0.96      0.96        25\n",
      "           1       1.00      1.00      1.00        25\n",
      "           2       1.00      1.00      1.00        25\n",
      "           3       1.00      0.96      0.98        25\n",
      "           4       1.00      1.00      1.00        25\n",
      "           5       0.92      0.96      0.94        25\n",
      "\n",
      "    accuracy                           0.98       150\n",
      "   macro avg       0.98      0.98      0.98       150\n",
      "weighted avg       0.98      0.98      0.98       150\n",
      "\n"
     ]
    }
   ],
   "source": [
    "print(classification_report(test_classes, predicted_labels))"
   ]
  },
  {
   "cell_type": "code",
   "execution_count": 20,
   "metadata": {
    "id": "AfoA8PCukBt2"
   },
   "outputs": [],
   "source": [
    "\n",
    "# Compute confusion matrix\n",
    "cnf_matrix = confusion_matrix(test_classes, predicted_labels)\n",
    "np.set_printoptions(precision=2)"
   ]
  },
  {
   "cell_type": "code",
   "execution_count": 21,
   "metadata": {
    "id": "toj78B05kEQn"
   },
   "outputs": [],
   "source": [
    "\n",
    "def plot_confusion_matrix(cm, classes,\n",
    "                          normalize=False,\n",
    "                          title='Confusion matrix',\n",
    "                          cmap=plt.cm.Blues):\n",
    "    #print(cm)\n",
    "\n",
    "    plt.imshow(cm, interpolation='nearest', cmap=cmap)\n",
    "    plt.title(title)\n",
    "    plt.colorbar()\n",
    "    tick_marks = np.arange(len(classes))\n",
    "    plt.xticks(tick_marks, classes, rotation=45)\n",
    "    plt.yticks(tick_marks, classes)\n",
    "\n",
    "    fmt = '.2f' if normalize else 'd'\n",
    "    thresh = cm.max() / 2.\n",
    "    for i, j in itertools.product(range(cm.shape[0]), range(cm.shape[1])):\n",
    "        plt.text(j, i, format(cm[i, j], fmt),\n",
    "                 horizontalalignment=\"center\",\n",
    "                 color=\"white\" if cm[i, j] > thresh else \"black\")\n",
    "\n",
    "    plt.tight_layout()\n",
    "    plt.ylabel('True label')\n",
    "    plt.xlabel('Predicted label')"
   ]
  },
  {
   "cell_type": "code",
   "execution_count": 22,
   "metadata": {
    "colab": {
     "base_uri": "https://localhost:8080/",
     "height": 801
    },
    "id": "CU65A_FWkKar",
    "outputId": "bceb4a17-7f1c-4752-ed01-7c09bf8d2d97"
   },
   "outputs": [
    {
     "data": {
      "image/png": "[encoded data removed]",
      "text/plain": [
       "<Figure size 792x792 with 2 Axes>"
      ]
     },
     "metadata": {
      "needs_background": "light"
     },
     "output_type": "display_data"
    }
   ],
   "source": [
    "# Plot non-normalized confusion matrix(values)\n",
    "plt.figure(figsize=(11,11))\n",
    "plot_confusion_matrix(cnf_matrix, classes=labelencoder.classes_,\n",
    "                      title='Confusion matrix, without normalization(TEAM AI ETERNALS)')"
   ]
  },
  {
   "cell_type": "code",
   "execution_count": 23,
   "metadata": {
    "colab": {
     "base_uri": "https://localhost:8080/",
     "height": 269
    },
    "id": "JHWac5_5pBya",
    "outputId": "77e71f6e-7200-4fc1-d36c-16af4a18eb0e"
   },
   "outputs": [
    {
     "data": {
      "image/png": "[encoded data removed]",
      "text/plain": [
       "<Figure size 432x288 with 2 Axes>"
      ]
     },
     "metadata": {
      "needs_background": "light"
     },
     "output_type": "display_data"
    }
   ],
   "source": [
    "import seaborn as sns\n",
    "from sklearn.metrics import confusion_matrix\n",
    "\n",
    "cm = confusion_matrix(test_classes, predicted_labels)\n",
    "f = sns.heatmap(cm, annot=True, fmt='d')"
   ]
  },
  {
   "cell_type": "code",
   "execution_count": 24,
   "metadata": {
    "id": "DVcj7RLekSDm"
   },
   "outputs": [],
   "source": [
    "\n",
    "# Find wrong predicted samples indexes\n",
    "#wrong_predictions = [i for i, (e1, e2) in enumerate(zip(test_classes, predicted_labels)) if e1 != e2]\n",
    "wrong_predictions = [i for i, (e1, e2) in enumerate(zip(predicted_labels,test_classes)) if e1 != e2]"
   ]
  },
  {
   "cell_type": "code",
   "execution_count": 25,
   "metadata": {
    "colab": {
     "base_uri": "https://localhost:8080/"
    },
    "id": "NU-4WYsKkUhk",
    "outputId": "0051f8d1-c18c-4026-ae7c-0ce84e550a01"
   },
   "outputs": [
    {
     "name": "stdout",
     "output_type": "stream",
     "text": [
      "['cello' 'viola' 'sax']\n",
      "[5 0 5]\n",
      "['viola' 'cello' 'viola']\n",
      "['/content/BasicsMusicalInstrumClassifi/audio/london_phill_dataset_multi/cello/cello_Gs5_1_mezzo-forte_arco-harmonic.mp3'\n",
      " '/content/BasicsMusicalInstrumClassifi/audio/london_phill_dataset_multi/viola/viola_Gs4_025_fortissimo_arco-normal.mp3'\n",
      " '/content/BasicsMusicalInstrumClassifi/audio/london_phill_dataset_multi/sax/saxophone_Gs3_05_pianissimo_normal.mp3']\n",
      "[46, 105, 113]\n"
     ]
    }
   ],
   "source": [
    "print(np.array(labels)[test_index[wrong_predictions]])\n",
    "print(predicted_labels[wrong_predictions].T)\n",
    "print(labelencoder.inverse_transform(predicted_labels[wrong_predictions]))\n",
    "print(np.array(files)[test_index[wrong_predictions]])\n",
    "print(wrong_predictions)"
   ]
  },
  {
   "cell_type": "code",
   "execution_count": 26,
   "metadata": {
    "colab": {
     "base_uri": "https://localhost:8080/"
    },
    "id": "h-614qYkMT5O",
    "outputId": "27ab90bf-383d-42d9-d59d-384672e6c290"
   },
   "outputs": [
    {
     "name": "stdout",
     "output_type": "stream",
     "text": [
      "trumpet\n",
      "/content/BasicsMusicalInstrumClassifi/audio/london_phill_dataset_multi/trumpet/trumpet_A3_15_pianissimo_normal.mp3\n",
      "4\n"
     ]
    }
   ],
   "source": [
    "filename = \"/content/BasicsMusicalInstrumClassifi/audio/london_phill_dataset_multi/trumpet/trumpet_A3_15_pianissimo_normal.mp3\"\n",
    "for name in classes:\n",
    "        if fnmatch.fnmatchcase(filename, '*'+name+'*'):\n",
    "            print(name)\n",
    "            print(filename)\n",
    "            print(l.index(name))\n",
    "            \n"
   ]
  }
 ],
 "metadata": {
  "colab": {
   "collapsed_sections": [],
   "provenance": []
  },
  "kernelspec": {
   "display_name": "Python 3 (ipykernel)",
   "language": "python",
   "name": "python3"
  },
  "language_info": {
   "codemirror_mode": {
    "name": "ipython",
    "version": 3
   },
   "file_extension": ".py",
   "mimetype": "text/x-python",
   "name": "python",
   "nbconvert_exporter": "python",
   "pygments_lexer": "ipython3",
   "version": "3.10.7"
  }
 },
 "nbformat": 4,
 "nbformat_minor": 1
}
